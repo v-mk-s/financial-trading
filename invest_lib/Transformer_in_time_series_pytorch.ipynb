{
  "nbformat": 4,
  "nbformat_minor": 0,
  "metadata": {
    "colab": {
      "name": "Transformer_in time_series_pytorch.ipynb",
      "provenance": [],
      "collapsed_sections": []
    },
    "kernelspec": {
      "name": "python3",
      "display_name": "Python 3"
    },
    "language_info": {
      "name": "python"
    }
  },
  "cells": [
    {
      "cell_type": "code",
      "metadata": {
        "id": "Dp-aONTgaOzt"
      },
      "source": [
        "import torch\n",
        "import torch.nn as nn\n",
        "import torch.nn.functional as F\n",
        "import numpy as np\n",
        "import math\n",
        " \n",
        "from sklearn.preprocessing import MinMaxScaler\n",
        " \n",
        "%matplotlib notebook\n",
        "import matplotlib.pyplot as plt"
      ],
      "execution_count": null,
      "outputs": []
    },
    {
      "cell_type": "markdown",
      "metadata": {
        "id": "1h2tcpyLc7lh"
      },
      "source": [
        "### 1. Модель"
      ]
    },
    {
      "cell_type": "markdown",
      "metadata": {
        "id": "04tmrkU8131j"
      },
      "source": [
        "#### Scaled Dot-Product Attention\n",
        "\n",
        "Функция внимания, используемая преобразователем, принимает три входа: Q (запрос), K (ключ), V (значение). Уравнение, используемое для расчета весов внимания:\n",
        "\n",
        "\n",
        "$$\\Large{Attention(Q, K, V) = softmax_k(\\frac{QK^T}{\\sqrt{d_k}}) V} $$"
      ]
    },
    {
      "cell_type": "code",
      "metadata": {
        "id": "zKIOEg-QtBHk"
      },
      "source": [
        "def attention(Q, K, V):\n",
        "    m = torch.matmul(Q, K.transpose(2, 1).float())\n",
        "    m /= torch.sqrt(torch.tensor(Q.shape[-1]).float())\n",
        "\n",
        "    a = torch.softmax(m , -1) #(batch_size, dim_attn, seq_length)\n",
        "    \n",
        "    return  torch.matmul(a,  V) #(batch_size, seq_length, seq_length)\n",
        "\n",
        "class AttentionBlock(torch.nn.Module):\n",
        "    def __init__(self, dim_val, dim_attn):\n",
        "        super(AttentionBlock, self).__init__()\n",
        "        self.query = Query(dim_val, dim_attn)\n",
        "        self.key = Key(dim_val, dim_attn)\n",
        "        self.value = Value(dim_val, dim_val)        \n",
        "        \n",
        "    \n",
        "    def forward(self, x, kv = None):\n",
        "        if(kv is None):\n",
        "            #Attention with x connected to Q, K and V (For encoder)\n",
        "            return attention(self.query(x), self.key(x), self.value(x))\n",
        "        \n",
        "        #Attention with x as Q, external vector kv as K an V (For decoder)\n",
        "        return attention(self.query(x), self.key(kv), self.value(kv))\n",
        "\n",
        "    \n",
        "class MultiHeadAttentionBlock(torch.nn.Module):\n",
        "    def __init__(self, dim_val, dim_attn, n_heads):\n",
        "        super(MultiHeadAttentionBlock, self).__init__()\n",
        "        self.heads = []\n",
        "        for i in range(n_heads):\n",
        "            self.heads.append(AttentionBlock(dim_val, dim_attn))\n",
        "        \n",
        "        self.heads = nn.ModuleList(self.heads)\n",
        "        \n",
        "        self.fc = nn.Linear(n_heads * dim_val, dim_val, bias = False)\n",
        "                      \n",
        "        \n",
        "    def forward(self, x, kv = None):\n",
        "        a = []\n",
        "        for h in self.heads:\n",
        "            a.append(h(x, kv = kv))\n",
        "            \n",
        "        a = torch.stack(a, dim = -1) #combine heads\n",
        "        a = a.flatten(start_dim = 2) #flatten all head outputs\n",
        "        \n",
        "        x = self.fc(a)\n",
        "        \n",
        "        return x\n",
        "    \n",
        "class Value(torch.nn.Module):\n",
        "    def __init__(self, dim_input, dim_val):\n",
        "        super(Value, self).__init__()\n",
        "        self.dim_val = dim_val\n",
        "        \n",
        "        self.fc1 = nn.Linear(dim_input, dim_val, bias = False)\n",
        "        #self.fc2 = nn.Linear(5, dim_val)\n",
        "    \n",
        "    def forward(self, x):\n",
        "        x = self.fc1(x)\n",
        "        #x = self.fc2(x)\n",
        "        \n",
        "        return x\n",
        "\n",
        "class Key(torch.nn.Module):\n",
        "    def __init__(self, dim_input, dim_attn):\n",
        "        super(Key, self).__init__()\n",
        "        self.dim_attn = dim_attn\n",
        "        \n",
        "        self.fc1 = nn.Linear(dim_input, dim_attn, bias = False)\n",
        "        #self.fc2 = nn.Linear(5, dim_attn)\n",
        "    \n",
        "    def forward(self, x):\n",
        "        x = self.fc1(x)\n",
        "        #x = self.fc2(x)\n",
        "        \n",
        "        return x\n",
        "\n",
        "class Query(torch.nn.Module):\n",
        "    def __init__(self, dim_input, dim_attn):\n",
        "        super(Query, self).__init__()\n",
        "        self.dim_attn = dim_attn\n",
        "        \n",
        "        self.fc1 = nn.Linear(dim_input, dim_attn, bias = False)\n",
        "        #self.fc2 = nn.Linear(5, dim_attn)\n",
        "    \n",
        "    def forward(self, x):\n",
        "        \n",
        "        x = self.fc1(x)\n",
        "        #print(x.shape)\n",
        "        #x = self.fc2(x)\n",
        "        \n",
        "        return x\n",
        "\n",
        "# https://pytorch.org/tutorials/beginner/transformer_tutorial.html\n",
        "class PositionalEncoding(nn.Module):\n",
        "    def __init__(self, d_model, dropout=0.1, max_len=5000):\n",
        "        super(PositionalEncoding, self).__init__()\n",
        "\n",
        "        pe = torch.zeros(max_len, d_model)\n",
        "        position = torch.arange(0, max_len, dtype=torch.float).unsqueeze(1)\n",
        "        \n",
        "        div_term = torch.exp(torch.arange(0, d_model, 2).float() * (-math.log(10000.0) / d_model))\n",
        "        \n",
        "        pe[:, 0::2] = torch.sin(position * div_term)\n",
        "        pe[:, 1::2] = torch.cos(position * div_term)\n",
        "        \n",
        "        pe = pe.unsqueeze(0).transpose(0, 1)\n",
        "        \n",
        "        self.register_buffer('pe', pe)\n",
        "\n",
        "    def forward(self, x):\n",
        "        x = x + self.pe[:x.size(1), :]. squeeze(1)\n",
        "        return x     \n",
        "    \n",
        "def get_data(data, batch_size, input_sequence_length, output_sequence_length, train=True):\n",
        "  \"\"\"\n",
        "  train, test: np.array, shape(n, )\n",
        "\n",
        "  \"\"\"  \n",
        "  i = input_sequence_length + output_sequence_length\n",
        "  if train:\n",
        "    t = torch.zeros(batch_size, 1).uniform_(0, len(instrument_data) - i).int()\n",
        "  else:    \n",
        "    batch_size = len(data) - i\n",
        "    t = torch.arange(0, batch_size).reshape(-1, 1)\n",
        "  \n",
        "  b = torch.arange(0, i).unsqueeze(0).repeat(batch_size, 1) + t\n",
        "  s = torch.FloatTensor(data[b])\n",
        "  X, y = s[:, :input_sequence_length].unsqueeze(-1), s[:,-output_sequence_length:]\n",
        "\n",
        "  return X, y"
      ],
      "execution_count": null,
      "outputs": []
    },
    {
      "cell_type": "code",
      "metadata": {
        "id": "LLYfmL-8aSoX"
      },
      "source": [
        "class EncoderLayer(torch.nn.Module):\n",
        "    def __init__(self, dim_val, dim_attn, n_heads = 1):\n",
        "        super(EncoderLayer, self).__init__()\n",
        "        self.attn = MultiHeadAttentionBlock(dim_val, dim_attn , n_heads)\n",
        "        self.fc1 = nn.Linear(dim_val, dim_val)\n",
        "        self.fc2 = nn.Linear(dim_val, dim_val)\n",
        "        \n",
        "        self.norm1 = nn.LayerNorm(dim_val)\n",
        "        self.norm2 = nn.LayerNorm(dim_val)\n",
        "    \n",
        "    def forward(self, x):\n",
        "        a = self.attn(x)\n",
        "        x = self.norm1(x + a)\n",
        "        \n",
        "        a = self.fc1(F.elu(self.fc2(x)))\n",
        "        x = self.norm2(x + a)\n",
        "        \n",
        "        return x\n",
        "\n",
        "class DecoderLayer(torch.nn.Module):\n",
        "    def __init__(self, dim_val, dim_attn, n_heads = 1):\n",
        "        super(DecoderLayer, self).__init__()\n",
        "        self.attn1 = MultiHeadAttentionBlock(dim_val, dim_attn, n_heads)\n",
        "        self.attn2 = MultiHeadAttentionBlock(dim_val, dim_attn, n_heads)\n",
        "        self.fc1 = nn.Linear(dim_val, dim_val)\n",
        "        self.fc2 = nn.Linear(dim_val, dim_val)\n",
        "        \n",
        "        self.norm1 = nn.LayerNorm(dim_val)\n",
        "        self.norm2 = nn.LayerNorm(dim_val)\n",
        "        self.norm3 = nn.LayerNorm(dim_val)\n",
        "        \n",
        "    def forward(self, x, enc):\n",
        "        a = self.attn1(x)\n",
        "        x = self.norm1(a + x)\n",
        "        \n",
        "        a = self.attn2(x, kv = enc)\n",
        "        x = self.norm2(a + x)\n",
        "        \n",
        "        a = self.fc1(F.elu(self.fc2(x)))\n",
        "        \n",
        "        x = self.norm3(x + a)\n",
        "        return x\n",
        "\n",
        "class Transformer(torch.nn.Module):\n",
        "    def __init__(self, dim_val, dim_attn, input_size, dec_seq_len, out_seq_len, \n",
        "                 n_decoder_layers = 1, n_encoder_layers = 1, n_heads = 1):\n",
        "        super(Transformer, self).__init__()\n",
        "        self.dec_seq_len = dec_seq_len\n",
        "        \n",
        "        #Initiate encoder and Decoder layers\n",
        "        self.encs = []\n",
        "        for i in range(n_encoder_layers):\n",
        "            self.encs.append(EncoderLayer(dim_val, dim_attn, n_heads))\n",
        "        \n",
        "        self.decs = []\n",
        "        for i in range(n_decoder_layers):\n",
        "            self.decs.append(DecoderLayer(dim_val, dim_attn, n_heads))\n",
        "        \n",
        "        self.pos = PositionalEncoding(dim_val)\n",
        "        \n",
        "        #Dense layers for managing network inputs and outputs\n",
        "        self.enc_input_fc = nn.Linear(input_size, dim_val)\n",
        "        self.dec_input_fc = nn.Linear(input_size, dim_val)\n",
        "        self.out_fc = nn.Linear(dec_seq_len * dim_val, out_seq_len)\n",
        "    \n",
        "    def forward(self, x):\n",
        "        #encoder\n",
        "        e = self.encs[0](self.pos(self.enc_input_fc(x)))\n",
        "        for enc in self.encs[1:]:\n",
        "            e = enc(e)\n",
        "        \n",
        "        #decoder\n",
        "        d = self.decs[0](self.dec_input_fc(x[:,-self.dec_seq_len:]), e)\n",
        "        for dec in self.decs[1:]:\n",
        "            d = dec(d, e)\n",
        "            \n",
        "        #output\n",
        "        x = self.out_fc(d.flatten(start_dim=1))\n",
        "        \n",
        "        return x"
      ],
      "execution_count": null,
      "outputs": []
    },
    {
      "cell_type": "markdown",
      "metadata": {
        "id": "OhS6sfNRAEua"
      },
      "source": [
        "### 2. Гиперпраметры модели"
      ]
    },
    {
      "cell_type": "code",
      "metadata": {
        "id": "72F2mjAKZcjR"
      },
      "source": [
        "#hyperparams\n",
        "enc_seq_len = 10\n",
        "dec_seq_len = 4\n",
        "output_sequence_length = 1\n",
        "\n",
        "dim_val = 10\n",
        "dim_attn = 9\n",
        "input_size = 1 # число признаков\n",
        "lr = 0.002\n",
        "epochs = 20\n",
        "\n",
        "n_heads = 3 \n",
        "\n",
        "n_decoder_layers = 3\n",
        "n_encoder_layers = 3\n",
        "\n",
        "batch_size = 15\n",
        "\n",
        "#init network and optimizer\n",
        "t = Transformer(dim_val, dim_attn, input_size, dec_seq_len,  output_sequence_length, n_decoder_layers, n_encoder_layers, n_heads)\n",
        "optimizer = torch.optim.Adam(t.parameters(), lr=lr)\n",
        "\n",
        "#keep track of loss for graph\n",
        "losses = []"
      ],
      "execution_count": null,
      "outputs": []
    },
    {
      "cell_type": "markdown",
      "metadata": {
        "id": "vD8uhHhHcSar"
      },
      "source": [
        "### 3. Подготовка данных для модели"
      ]
    },
    {
      "cell_type": "markdown",
      "metadata": {
        "id": "0KoCSZ37eZ9q"
      },
      "source": [
        "В качестве иммитации данных одного инструмента instrument_data использовалалась функция сos(x) при х от 0 до 100 - train и от 100 до 150 - test.\n",
        "\n",
        "Вместо instrument_data и test_data можно вводить данные временного ряда любого ОДНОГО инструмента."
      ]
    },
    {
      "cell_type": "code",
      "metadata": {
        "id": "kX09a9jQ3WvX"
      },
      "source": [
        "def get_dummy_data(x):\n",
        "  return np.cos(x)\n",
        "\n",
        "x = np.arange(100, dtype=np.float32)\n",
        "instrument_data = get_dummy_data(x)\n",
        "\n",
        "scaler = MinMaxScaler()\n",
        "instrument_data = scaler.fit_transform(instrument_data.reshape(-1, 1)).flatten()"
      ],
      "execution_count": null,
      "outputs": []
    },
    {
      "cell_type": "code",
      "metadata": {
        "colab": {
          "base_uri": "https://localhost:8080/"
        },
        "id": "4cY-vynpfxNq",
        "outputId": "b64588dd-e9e8-4ea4-b349-0c5cc333852b"
      },
      "source": [
        "test_data = np.arange(100, 150, dtype=np.float32)\n",
        "test_data = get_dummy_data(test_data)\n",
        "true_seq = test_data.copy()\n",
        "\n",
        "test_data = scaler.transform(test_data.reshape(-1, 1)).flatten()\n",
        "X_test, y_test = get_data(test_data, batch_size, enc_seq_len, output_sequence_length, False)\n",
        "X_test.shape, y_test.shape"
      ],
      "execution_count": null,
      "outputs": [
        {
          "output_type": "execute_result",
          "data": {
            "text/plain": [
              "(torch.Size([39, 10, 1]), torch.Size([39, 1]))"
            ]
          },
          "metadata": {
            "tags": []
          },
          "execution_count": 6
        }
      ]
    },
    {
      "cell_type": "markdown",
      "metadata": {
        "id": "t0Hn4A7HcJwu"
      },
      "source": [
        "### 4. Обучение модели"
      ]
    },
    {
      "cell_type": "code",
      "metadata": {
        "colab": {
          "base_uri": "https://localhost:8080/",
          "height": 281
        },
        "id": "W5CjKYGhZ2Z4",
        "outputId": "22bc605c-0703-4902-ce09-504362914bd4"
      },
      "source": [
        "#build live matplotlib fig\n",
        "fig = plt.figure()\n",
        "\n",
        "ax = fig.add_subplot(111)\n",
        "plt.ion()\n",
        "\n",
        "fig.show()\n",
        "fig.canvas.draw()\n",
        "\n",
        "    \n",
        "for e in range(epochs):\n",
        "    out = []\n",
        "    \n",
        "    for b in range(enc_seq_len):\n",
        "        optimizer.zero_grad()\n",
        "        X, y = get_data(instrument_data, batch_size, enc_seq_len, output_sequence_length)\n",
        "        \n",
        "        #Forward pass and calculate loss\n",
        "        net_out = t(X)\n",
        "        #print(net_out.shape,Y.shape)\n",
        "        loss = torch.mean((net_out - y) ** 2)\n",
        "\n",
        "        #backwards pass\n",
        "        loss.backward()\n",
        "        optimizer.step()\n",
        "\n",
        "        #Track losses and draw rgaph\n",
        "        out.append([net_out.detach().numpy(), y])\n",
        "        losses.append(loss)\n",
        "\n",
        "        ax.clear()\n",
        "        ax.plot(losses)\n",
        "        ax.set_title(\"Mean Squared Error\")\n",
        "        fig.canvas.draw()"
      ],
      "execution_count": null,
      "outputs": [
        {
          "output_type": "display_data",
          "data": {
            "image/png": "[encoded data removed]",
            "text/plain": [
              "<Figure size 432x288 with 1 Axes>"
            ]
          },
          "metadata": {
            "tags": [],
            "needs_background": "light"
          }
        }
      ]
    },
    {
      "cell_type": "markdown",
      "metadata": {
        "id": "bp0nzB2bb7tU"
      },
      "source": [
        "### 5. Предсказания модели"
      ]
    },
    {
      "cell_type": "code",
      "metadata": {
        "colab": {
          "base_uri": "https://localhost:8080/",
          "height": 265
        },
        "id": "OEjvERVr5RLs",
        "outputId": "e0cd7018-8026-43a1-9696-498584841eeb"
      },
      "source": [
        "fig = plt.figure()\n",
        "ax = fig.add_subplot(111)\n",
        "plt.ion()\n",
        "\n",
        "fig.show()\n",
        "fig.canvas.draw()\n",
        "#true_seq = scaler.inverse_transform(instrument_data.reshape(-1, 1))\n",
        "x = [X_test[0].tolist()]\n",
        "N = X_test.shape[0] #- (enc_seq_len + output_sequence_length)\n",
        "\n",
        "#Draw graph \n",
        "for i in range(N): \n",
        "  q = torch.tensor([X_test[i].tolist()]).float()  \n",
        "  \n",
        "  #if(output_sequence_length == 1):\n",
        "  y_pred = [t(q).detach().squeeze().numpy()]\n",
        "  \n",
        "  x[0].append(y_pred)\n",
        "\n",
        "prediction = scaler.inverse_transform(x[0])\n",
        "ax.clear()\n",
        "ax.plot(prediction, label='Network output')\n",
        "ax.plot(true_seq, label='y_true')\n",
        "ax.set_title(\"\")\n",
        "ax.legend(loc='upper left', frameon=False);"
      ],
      "execution_count": null,
      "outputs": [
        {
          "output_type": "display_data",
          "data": {
            "image/png": "[encoded data removed]",
            "text/plain": [
              "<Figure size 432x288 with 1 Axes>"
            ]
          },
          "metadata": {
            "tags": [],
            "needs_background": "light"
          }
        }
      ]
    },
    {
      "cell_type": "markdown",
      "metadata": {
        "id": "LuNqLKWSbz4Q"
      },
      "source": [
        "### 6. Оценка качества предсказаний"
      ]
    },
    {
      "cell_type": "markdown",
      "metadata": {
        "id": "9SjxL5T7Z_lL"
      },
      "source": [
        "#### Pearson product-moment correlation coefficients"
      ]
    },
    {
      "cell_type": "code",
      "metadata": {
        "colab": {
          "base_uri": "https://localhost:8080/"
        },
        "id": "JeYON0q-U1YN",
        "outputId": "cae8ff70-5c82-49f4-af2d-71dfa893266c"
      },
      "source": [
        "prediction = prediction.flatten()\n",
        "\n",
        "np.corrcoef(prediction, true_seq[:-1])"
      ],
      "execution_count": null,
      "outputs": [
        {
          "output_type": "execute_result",
          "data": {
            "text/plain": [
              "array([[1.       , 0.9995844],\n",
              "       [0.9995844, 1.       ]])"
            ]
          },
          "metadata": {
            "tags": []
          },
          "execution_count": 9
        }
      ]
    },
    {
      "cell_type": "markdown",
      "metadata": {
        "id": "6yQDvEG5aYtE"
      },
      "source": [
        "#### RMSE"
      ]
    },
    {
      "cell_type": "code",
      "metadata": {
        "colab": {
          "base_uri": "https://localhost:8080/"
        },
        "id": "lq7O1I5daDs3",
        "outputId": "e5450044-4386-4226-8161-f5356f354af7"
      },
      "source": [
        "np.sqrt(((prediction - true_seq[:-1])**2).sum())"
      ],
      "execution_count": null,
      "outputs": [
        {
          "output_type": "execute_result",
          "data": {
            "text/plain": [
              "0.14726974490111194"
            ]
          },
          "metadata": {
            "tags": []
          },
          "execution_count": 10
        }
      ]
    }
  ]
}