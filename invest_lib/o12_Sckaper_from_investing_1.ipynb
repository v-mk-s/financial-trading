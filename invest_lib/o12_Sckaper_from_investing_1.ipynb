{
  "nbformat": 4,
  "nbformat_minor": 0,
  "metadata": {
    "colab": {
      "name": "o12_Sckaper_from_investing.1.ipynb",
      "provenance": [],
      "collapsed_sections": []
    },
    "kernelspec": {
      "name": "python3",
      "display_name": "Python 3"
    },
    "language_info": {
      "name": "python"
    }
  },
  "cells": [
    {
      "cell_type": "code",
      "metadata": {
        "colab": {
          "base_uri": "https://localhost:8080/",
          "height": 717
        },
        "id": "zfPMuCwK3Pm0",
        "outputId": "e8276ca3-ae08-4340-e9f7-f71844aa2ee0"
      },
      "source": [
        "!pip install investpy"
      ],
      "execution_count": null,
      "outputs": [
        {
          "output_type": "stream",
          "text": [
            "Collecting investpy\n",
            "\u001b[?25l  Downloading https://files.pythonhosted.org/packages/c3/7e/549ee85b6cebe2b96b02b20ed7158075ad3d7054177c1cdd9e07f04a7992/investpy-1.0.7.tar.gz (4.4MB)\n",
            "\u001b[K     |████████████████████████████████| 4.4MB 7.9MB/s \n",
            "\u001b[?25hCollecting Unidecode>=1.1.1\n",
            "\u001b[?25l  Downloading https://files.pythonhosted.org/packages/9e/25/723487ca2a52ebcee88a34d7d1f5a4b80b793f179ee0f62d5371938dfa01/Unidecode-1.2.0-py2.py3-none-any.whl (241kB)\n",
            "\u001b[K     |████████████████████████████████| 245kB 34.4MB/s \n",
            "\u001b[?25hRequirement already satisfied: setuptools>=41.2.0 in /usr/local/lib/python3.7/dist-packages (from investpy) (57.0.0)\n",
            "Requirement already satisfied: numpy>=1.17.2 in /usr/local/lib/python3.7/dist-packages (from investpy) (1.19.5)\n",
            "Requirement already satisfied: pandas>=0.25.1 in /usr/local/lib/python3.7/dist-packages (from investpy) (1.1.5)\n",
            "Collecting lxml>=4.4.1\n",
            "\u001b[?25l  Downloading https://files.pythonhosted.org/packages/30/c0/d0526314971fc661b083ab135747dc68446a3022686da8c16d25fcf6ef07/lxml-4.6.3-cp37-cp37m-manylinux2014_x86_64.whl (6.3MB)\n",
            "\u001b[K     |████████████████████████████████| 6.3MB 38.1MB/s \n",
            "\u001b[?25hRequirement already satisfied: requests>=2.22.0 in /usr/local/lib/python3.7/dist-packages (from investpy) (2.23.0)\n",
            "Collecting pytz>=2019.3\n",
            "\u001b[?25l  Downloading https://files.pythonhosted.org/packages/70/94/784178ca5dd892a98f113cdd923372024dc04b8d40abe77ca76b5fb90ca6/pytz-2021.1-py2.py3-none-any.whl (510kB)\n",
            "\u001b[K     |████████████████████████████████| 512kB 33.2MB/s \n",
            "\u001b[?25hRequirement already satisfied: python-dateutil>=2.7.3 in /usr/local/lib/python3.7/dist-packages (from pandas>=0.25.1->investpy) (2.8.1)\n",
            "Requirement already satisfied: idna<3,>=2.5 in /usr/local/lib/python3.7/dist-packages (from requests>=2.22.0->investpy) (2.10)\n",
            "Requirement already satisfied: urllib3!=1.25.0,!=1.25.1,<1.26,>=1.21.1 in /usr/local/lib/python3.7/dist-packages (from requests>=2.22.0->investpy) (1.24.3)\n",
            "Requirement already satisfied: certifi>=2017.4.17 in /usr/local/lib/python3.7/dist-packages (from requests>=2.22.0->investpy) (2021.5.30)\n",
            "Requirement already satisfied: chardet<4,>=3.0.2 in /usr/local/lib/python3.7/dist-packages (from requests>=2.22.0->investpy) (3.0.4)\n",
            "Requirement already satisfied: six>=1.5 in /usr/local/lib/python3.7/dist-packages (from python-dateutil>=2.7.3->pandas>=0.25.1->investpy) (1.15.0)\n",
            "Building wheels for collected packages: investpy\n",
            "  Building wheel for investpy (setup.py) ... \u001b[?25l\u001b[?25hdone\n",
            "  Created wheel for investpy: filename=investpy-1.0.7-cp37-none-any.whl size=4495223 sha256=6d0c2cf1499079e7b9105329c4060d93c9e4bccf2f35a2581ed27f923dcef2af\n",
            "  Stored in directory: /root/.cache/pip/wheels/09/7e/f9/df627561fc57278456e61aa9c63a03dd08e436eb7deab834f0\n",
            "Successfully built investpy\n",
            "Installing collected packages: Unidecode, lxml, pytz, investpy\n",
            "  Found existing installation: lxml 4.2.6\n",
            "    Uninstalling lxml-4.2.6:\n",
            "      Successfully uninstalled lxml-4.2.6\n",
            "  Found existing installation: pytz 2018.9\n",
            "    Uninstalling pytz-2018.9:\n",
            "      Successfully uninstalled pytz-2018.9\n",
            "Successfully installed Unidecode-1.2.0 investpy-1.0.7 lxml-4.6.3 pytz-2021.1\n"
          ],
          "name": "stdout"
        },
        {
          "output_type": "display_data",
          "data": {
            "application/vnd.colab-display-data+json": {
              "pip_warning": {
                "packages": [
                  "pytz"
                ]
              }
            }
          },
          "metadata": {
            "tags": []
          }
        }
      ]
    },
    {
      "cell_type": "code",
      "metadata": {
        "colab": {
          "base_uri": "https://localhost:8080/"
        },
        "id": "5rjWpY0y3Q38",
        "outputId": "d1b8dd16-f527-4009-8776-10c2492fb4c1"
      },
      "source": [
        "!pip install git+https://github.com/v-mk-s/investpy.git@master\n",
        "\n"
      ],
      "execution_count": null,
      "outputs": [
        {
          "output_type": "stream",
          "text": [
            "Collecting git+https://github.com/alvarobartt/investpy.git@master\n",
            "  Cloning https://github.com/alvarobartt/investpy.git (to revision master) to /tmp/pip-req-build-2r0zouig\n",
            "  Running command git clone -q https://github.com/alvarobartt/investpy.git /tmp/pip-req-build-2r0zouig\n",
            "Requirement already satisfied (use --upgrade to upgrade): investpy==1.0.7 from git+https://github.com/alvarobartt/investpy.git@master in /usr/local/lib/python3.7/dist-packages\n",
            "Requirement already satisfied: Unidecode>=1.1.1 in /usr/local/lib/python3.7/dist-packages (from investpy==1.0.7) (1.2.0)\n",
            "Requirement already satisfied: setuptools>=41.2.0 in /usr/local/lib/python3.7/dist-packages (from investpy==1.0.7) (57.0.0)\n",
            "Requirement already satisfied: numpy>=1.17.2 in /usr/local/lib/python3.7/dist-packages (from investpy==1.0.7) (1.19.5)\n",
            "Requirement already satisfied: pandas>=0.25.1 in /usr/local/lib/python3.7/dist-packages (from investpy==1.0.7) (1.1.5)\n",
            "Requirement already satisfied: lxml>=4.4.1 in /usr/local/lib/python3.7/dist-packages (from investpy==1.0.7) (4.6.3)\n",
            "Requirement already satisfied: requests>=2.22.0 in /usr/local/lib/python3.7/dist-packages (from investpy==1.0.7) (2.23.0)\n",
            "Requirement already satisfied: pytz>=2019.3 in /usr/local/lib/python3.7/dist-packages (from investpy==1.0.7) (2021.1)\n",
            "Requirement already satisfied: python-dateutil>=2.7.3 in /usr/local/lib/python3.7/dist-packages (from pandas>=0.25.1->investpy==1.0.7) (2.8.1)\n",
            "Requirement already satisfied: idna<3,>=2.5 in /usr/local/lib/python3.7/dist-packages (from requests>=2.22.0->investpy==1.0.7) (2.10)\n",
            "Requirement already satisfied: urllib3!=1.25.0,!=1.25.1,<1.26,>=1.21.1 in /usr/local/lib/python3.7/dist-packages (from requests>=2.22.0->investpy==1.0.7) (1.24.3)\n",
            "Requirement already satisfied: chardet<4,>=3.0.2 in /usr/local/lib/python3.7/dist-packages (from requests>=2.22.0->investpy==1.0.7) (3.0.4)\n",
            "Requirement already satisfied: certifi>=2017.4.17 in /usr/local/lib/python3.7/dist-packages (from requests>=2.22.0->investpy==1.0.7) (2021.5.30)\n",
            "Requirement already satisfied: six>=1.5 in /usr/local/lib/python3.7/dist-packages (from python-dateutil>=2.7.3->pandas>=0.25.1->investpy==1.0.7) (1.15.0)\n",
            "Building wheels for collected packages: investpy\n",
            "  Building wheel for investpy (setup.py) ... \u001b[?25l\u001b[?25hdone\n",
            "  Created wheel for investpy: filename=investpy-1.0.7-cp37-none-any.whl size=4488231 sha256=8d21fb4e258e756238745cead53a01c20b6078e051e4986f8253a26a0138e98f\n",
            "  Stored in directory: /tmp/pip-ephem-wheel-cache-igcd56ph/wheels/83/df/3e/79cda6a52e71c4cca31ee3684a2d459fa5e4b949dc48201314\n",
            "Successfully built investpy\n"
          ],
          "name": "stdout"
        }
      ]
    },
    {
      "cell_type": "code",
      "metadata": {
        "id": "eTtN4Ze7muW6"
      },
      "source": [
        "import pandas as pd\n",
        "import investpy\n",
        "import datetime\n"
      ],
      "execution_count": null,
      "outputs": []
    },
    {
      "cell_type": "markdown",
      "metadata": {
        "id": "PGJgUxBnyMKM"
      },
      "source": [
        "Добавим нужные инструменты в список (для начала добавим инструменты instrum_15)"
      ]
    },
    {
      "cell_type": "code",
      "metadata": {
        "id": "wSG88kEiXKHr"
      },
      "source": [
        "instrum_15 = [\"MSFT\", \"AMZN\", \"FB\", \"AAPL\", \"JPM\", \"JNJ\", \"V\", \"WMT\", \"NVDA\", \"BAC\", \"MA\", \"HD\", \"UNH\", \"ORCL\"]"
      ],
      "execution_count": null,
      "outputs": []
    },
    {
      "cell_type": "code",
      "metadata": {
        "id": "kssnOpFi3TYp"
      },
      "source": [
        "# Данная фунцкия автоматически соединяется с investing.com и парсит информацию акций из smp500 \n",
        "\n",
        "def fi_from_investing(start_date, instruments, part_of_candle, number_of_instruments = None): \n",
        "    today = datetime.datetime.today().strftime('%d/%m/%Y') # Дата сегодня\n",
        "    df = investpy.get_stock_historical_data(stock='AAPL',\n",
        "                                            country='United States',\n",
        "                                            from_date=start_date,\n",
        "                                            to_date=today)\n",
        "    dataset = pd.DataFrame(df[['Open','High','Low','Close','Volume']])\n",
        "\n",
        "    mistakes = []   # Сюда складываем инструменты с ошибками.\n",
        "\n",
        "    df = investpy.get_stock_historical_data(stock='AAPL',\n",
        "                                            country='United States',\n",
        "                                            from_date=start_date,\n",
        "                                            to_date=today)\n",
        "    dataset = pd.DataFrame(df[part_of_candle])\n",
        "\n",
        "    for f in instruments[:number_of_instruments]:    # В цикле пройдемся по данным с investing com и и включим в наш датасет.\n",
        "      try:\n",
        "            df = investpy.get_stock_historical_data(stock=f,\n",
        "                                                    country='United States',\n",
        "                                                    from_date=start_date,    # Это дата начала истории\n",
        "                                                    to_date=today)             # Это дата сегодня (можно поменять на более раннюю. Дата должна быть в формате dd/mm/yyyy)\n",
        "            dataset[f] = pd.DataFrame(df[part_of_candle]) # Добавляем в датасет только цену закрытия\n",
        "          \n",
        "\n",
        "      except:\n",
        "            mistakes.append(f)   # И если ошибка, то будем записывать сюда инструменты с ошибками.\n",
        "            pass\n",
        "\n",
        "\n",
        "    dataset = pd.DataFrame(dataset).drop([part_of_candle], axis = 1) # Удалим первую строку, которая является ценой закрытия APPLE\n",
        "    dataset.T.to_csv(f'Dataset_for_FinBot_{part_of_candle}.csv') # Сохраним его в файл\n",
        "\n",
        "    return dataset.T, mistakes\n",
        "\n"
      ],
      "execution_count": null,
      "outputs": []
    },
    {
      "cell_type": "markdown",
      "metadata": {
        "id": "bBCmHDnb5ppq"
      },
      "source": [
        "# Код выше весь обязателен от первой строчки!"
      ]
    },
    {
      "cell_type": "markdown",
      "metadata": {
        "id": "oAWJAbpLBCG6"
      },
      "source": [
        "### Итак, у нас свеча на рынке состоит из 4 частей - 'Open', 'High', 'Low', 'Close'. Кроме того, у акций есть еще и 'Volume'"
      ]
    },
    {
      "cell_type": "markdown",
      "metadata": {
        "id": "jfOk6D-fIufz"
      },
      "source": [
        "##У функции 4 элемента: \n",
        "#### 1 - Дата, с которой надо скачивать, \n",
        "####2 - список инстументов, \n",
        "####3 - часть свечи инструмента (Open', 'High', 'Low', 'Close', или 'Volume'), \n",
        "####4 - количество элементов с первого элемента (по умолчанию (если убрать)загружаются все элементы списка инстументов с даты указанной в первом пункте по сегодня)"
      ]
    },
    {
      "cell_type": "code",
      "metadata": {
        "id": "ioNzqP0VEKRA"
      },
      "source": [
        "# Если нужно только одно из Open', 'High', 'Low', 'Close', или 'Volume'\n",
        "Close, mistakes = fi_from_investing(\"01/01/2019\", instrum_15, 'Close') # Удалив четвертый параметр (сейчас это 2), скрипт пройдется по всем инструментам из списка."
      ],
      "execution_count": null,
      "outputs": []
    },
    {
      "cell_type": "code",
      "metadata": {
        "id": "UUMv2unbaQTs"
      },
      "source": [
        "# Ниже цикл выгрузит все данные и сохранит в отдельный файл. \n",
        "# Внимание цикл проходится по всем данным. Может занять до 30 минут.\n",
        "mistakes = []\n",
        "for i in ['Open','High','Low','Close','Volume']:\n",
        "      i, m = fi_from_investing(\"01/01/2015\", instrum_15, i) # Если надо, то меняем дату начала, указываем количество инструментов 4-м параметром\n",
        "      mistakes.append(m)\n",
        "      # print(i)"
      ],
      "execution_count": null,
      "outputs": []
    },
    {
      "cell_type": "code",
      "metadata": {
        "id": "bVgweU2ZFHN6",
        "colab": {
          "base_uri": "https://localhost:8080/"
        },
        "outputId": "9e9eaa9e-9482-4d40-bd2b-d46109d891bb"
      },
      "source": [
        "mistakes"
      ],
      "execution_count": null,
      "outputs": [
        {
          "output_type": "execute_result",
          "data": {
            "text/plain": [
              "[]"
            ]
          },
          "metadata": {
            "tags": []
          },
          "execution_count": 10
        }
      ]
    }
  ]
}
