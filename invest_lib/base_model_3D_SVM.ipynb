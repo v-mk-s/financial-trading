{
  "nbformat": 4,
  "nbformat_minor": 0,
  "metadata": {
    "colab": {
      "name": "base_model_3D_SVM",
      "provenance": [],
      "collapsed_sections": [
        "8I2MY0perxQ2",
        "eW4SnOPhtbXO",
        "WArEgXlMuX4u",
        "zr0U32HDkGwd",
        "vkiqfdmwvqiE",
        "7HKD8ngzwIZU"
      ]
    },
    "kernelspec": {
      "name": "python3",
      "display_name": "Python 3"
    },
    "language_info": {
      "name": "python"
    }
  },
  "cells": [
    {
      "cell_type": "code",
      "metadata": {
        "id": "9ck65MIgRIfW",
        "colab": {
          "base_uri": "https://localhost:8080/"
        },
        "outputId": "68d8d6c6-890c-4df7-fdd9-e2251f2dd258"
      },
      "source": [
        "!pip install pandas_market_calendars\n",
        "!pip install Random-Word-Generator\n",
        "!pip install RandomWord"
      ],
      "execution_count": null,
      "outputs": [
        {
          "output_type": "stream",
          "text": [
            "Requirement already satisfied: pandas_market_calendars in /usr/local/lib/python3.7/dist-packages (2.0)\n",
            "Requirement already satisfied: python-dateutil in /usr/local/lib/python3.7/dist-packages (from pandas_market_calendars) (2.8.1)\n",
            "Requirement already satisfied: pandas>=0.18 in /usr/local/lib/python3.7/dist-packages (from pandas_market_calendars) (1.1.5)\n",
            "Requirement already satisfied: exchange-calendars in /usr/local/lib/python3.7/dist-packages (from pandas_market_calendars) (3.0.2)\n",
            "Requirement already satisfied: pytz in /usr/local/lib/python3.7/dist-packages (from pandas_market_calendars) (2018.9)\n",
            "Requirement already satisfied: six>=1.5 in /usr/local/lib/python3.7/dist-packages (from python-dateutil->pandas_market_calendars) (1.15.0)\n",
            "Requirement already satisfied: numpy>=1.15.4 in /usr/local/lib/python3.7/dist-packages (from pandas>=0.18->pandas_market_calendars) (1.19.5)\n",
            "Requirement already satisfied: pyluach in /usr/local/lib/python3.7/dist-packages (from exchange-calendars->pandas_market_calendars) (1.2.1)\n",
            "Requirement already satisfied: toolz in /usr/local/lib/python3.7/dist-packages (from exchange-calendars->pandas_market_calendars) (0.11.1)\n",
            "Requirement already satisfied: Random-Word-Generator in /usr/local/lib/python3.7/dist-packages (1.3)\n",
            "Requirement already satisfied: RandomWord in /usr/local/lib/python3.7/dist-packages (1.0.2)\n"
          ],
          "name": "stdout"
        }
      ]
    },
    {
      "cell_type": "code",
      "metadata": {
        "id": "niuPMauttAa_"
      },
      "source": [
        "import numpy as np\n",
        "import pandas as pd\n",
        "import pandas_market_calendars as mcal\n",
        "from RandomWordGenerator import RandomWord\n",
        "\n",
        "import tensorflow as tf\n",
        "from sklearn.svm import SVC\n",
        "\n",
        "from scipy.stats import rankdata\n",
        "from sklearn.preprocessing import StandardScaler\n",
        "from sklearn.metrics import accuracy_score, confusion_matrix\n",
        "\n",
        "\n",
        "import matplotlib.pyplot as plt"
      ],
      "execution_count": null,
      "outputs": []
    },
    {
      "cell_type": "code",
      "metadata": {
        "colab": {
          "base_uri": "https://localhost:8080/"
        },
        "id": "63p5xCTvtPef",
        "outputId": "aa4bc3a5-1cb7-4e67-ad5a-1d68de905d12"
      },
      "source": [
        "from google.colab import drive\n",
        "drive.mount('/content/drive')"
      ],
      "execution_count": null,
      "outputs": [
        {
          "output_type": "stream",
          "text": [
            "Drive already mounted at /content/drive; to attempt to forcibly remount, call drive.mount(\"/content/drive\", force_remount=True).\n"
          ],
          "name": "stdout"
        }
      ]
    },
    {
      "cell_type": "code",
      "metadata": {
        "id": "U9rctSSnedfr"
      },
      "source": [
        "PATH = '/content/drive/My Drive/app/NLP/'"
      ],
      "execution_count": null,
      "outputs": []
    },
    {
      "cell_type": "markdown",
      "metadata": {
        "id": "XyA9QXxmbyKu"
      },
      "source": [
        "### 1. Определение временных параметров модели."
      ]
    },
    {
      "cell_type": "markdown",
      "metadata": {
        "id": "ocv0hhMHbPev"
      },
      "source": [
        "* Определение глубины истории для модели - lookback \n",
        "* Определение шага пересчета коэффициентов модели - step"
      ]
    },
    {
      "cell_type": "code",
      "metadata": {
        "colab": {
          "base_uri": "https://localhost:8080/"
        },
        "id": "eCe399aabGYb",
        "outputId": "7f9ff227-67e3-4595-816f-56267217790d"
      },
      "source": [
        "nyse = mcal.get_calendar('NYSE')\n",
        "\n",
        "lookback = nyse.schedule(start_date='2016-01-01', end_date='2018-12-31').shape[0]\n",
        "print(f'lookback = {lookback}')\n",
        "\n",
        "calc_dates = ['2019-01-01', '2019-04-01', '2019-07-01', '2019-09-30',\n",
        "              '2020-01-01', '2020-04-01', '2020-07-01', '2020-09-30']\n",
        "                \n",
        "qtr_lengths = []\n",
        "for i in range(1, len(calc_dates)):\n",
        "  qtr_lengths.append(nyse.schedule(calc_dates[i - 1], calc_dates[i]).shape[0])\n",
        "\n",
        "step = int(np.array(qtr_lengths).mean())\n",
        "print(f'calculation step = {step}')"
      ],
      "execution_count": null,
      "outputs": [
        {
          "output_type": "stream",
          "text": [
            "lookback = 754\n",
            "calculation step = 63\n"
          ],
          "name": "stdout"
        }
      ]
    },
    {
      "cell_type": "code",
      "metadata": {
        "colab": {
          "base_uri": "https://localhost:8080/"
        },
        "id": "R7OtcP1MbGj2",
        "outputId": "6892dacb-5d25-4a74-8645-3754109c7811"
      },
      "source": [
        "data_days = nyse.schedule('2016-01-01', '2021-01-05').shape[0]\n",
        "out_of_sample_days = nyse.schedule('2021-01-06', '2021-03-05').shape[0]\n",
        "print(f'число дней для тренировки и валидации модели = {data_days}')\n",
        "print(f'число дней для тестирования модели = {out_of_sample_days}')"
      ],
      "execution_count": null,
      "outputs": [
        {
          "output_type": "stream",
          "text": [
            "число дней для тренировки и валидации модели = 1261\n",
            "число дней для тестирования модели = 41\n"
          ],
          "name": "stdout"
        }
      ]
    },
    {
      "cell_type": "code",
      "metadata": {
        "id": "WVY5JWrTbmN_"
      },
      "source": [
        "start_day, end_day = 20160101, 20210305"
      ],
      "execution_count": null,
      "outputs": []
    },
    {
      "cell_type": "markdown",
      "metadata": {
        "id": "rFO_zj7-uUhp"
      },
      "source": [
        "### 2. Загрузка и отбор данных в соответствии с заданными временными параметрами."
      ]
    },
    {
      "cell_type": "markdown",
      "metadata": {
        "id": "KNZvzZkRZgF1"
      },
      "source": [
        "Формирование 3D данных."
      ]
    },
    {
      "cell_type": "code",
      "metadata": {
        "colab": {
          "base_uri": "https://localhost:8080/"
        },
        "id": "0miKF6f0TuKL",
        "outputId": "ef19fe6a-c04c-4467-c694-a01cd527feac"
      },
      "source": [
        "file_list = ['Open.csv', 'High.csv', 'Low.csv' ,'Close.csv', 'Volume.csv']\n",
        "\n",
        "for i, file in enumerate(file_list):\n",
        "  df = pd.read_csv(PATH + file, index_col=0)#.fillna(method='ffill', axis=1)    # заполнение пропусков\n",
        "  df.columns = [int(i.replace('-', '')) for i in df.columns]\n",
        "  df = df.loc[:, (df.columns > start_day) & (df.columns < end_day)].fillna(method='ffill', axis=1)\n",
        "  if i == 0:\n",
        "    dates = df.columns\n",
        "    instruments = df.index\n",
        "    data_3D = np.full((df.shape[0], df.shape[1], len(file_list) + 2), np.nan)\n",
        "\n",
        "  data_3D[:, :, i] = df\n",
        "\n",
        "data_3D[:, :, 5] = (data_3D[:, :, 1] - data_3D[:, :, 2]) /  data_3D[:, :, 0]   # (High - Low) / Open\n",
        "data_3D[:, :, 6] = (data_3D[:, :, 0] - data_3D[:, :, 3]) /  data_3D[:, :, 0]   # (Open - Close) / Open\n",
        "\n",
        "print(f'data_3D.shape = {data_3D.shape}')"
      ],
      "execution_count": null,
      "outputs": [
        {
          "output_type": "stream",
          "text": [
            "data_3D.shape = (492, 1302, 7)\n"
          ],
          "name": "stdout"
        }
      ]
    },
    {
      "cell_type": "markdown",
      "metadata": {
        "id": "Rrejxh2dZL4b"
      },
      "source": [
        "Пример одного слоя данных - данные на конец дня (из Close.csv)"
      ]
    },
    {
      "cell_type": "code",
      "metadata": {
        "colab": {
          "base_uri": "https://localhost:8080/",
          "height": 172
        },
        "id": "PEvCTL7tYYY0",
        "outputId": "2c7162fc-6396-48c8-8bf0-430e5c0a7f8d"
      },
      "source": [
        "df = pd.DataFrame(data_3D[:, :, 3], index=instruments, columns=dates)\n",
        "print(f'df.shape = {df.shape}')\n",
        "df.head(2)"
      ],
      "execution_count": null,
      "outputs": [
        {
          "output_type": "stream",
          "text": [
            "df.shape = (492, 1302)\n"
          ],
          "name": "stdout"
        },
        {
          "output_type": "execute_result",
          "data": {
            "text/html": [
              "<div>\n",
              "<style scoped>\n",
              "    .dataframe tbody tr th:only-of-type {\n",
              "        vertical-align: middle;\n",
              "    }\n",
              "\n",
              "    .dataframe tbody tr th {\n",
              "        vertical-align: top;\n",
              "    }\n",
              "\n",
              "    .dataframe thead th {\n",
              "        text-align: right;\n",
              "    }\n",
              "</style>\n",
              "<table border=\"1\" class=\"dataframe\">\n",
              "  <thead>\n",
              "    <tr style=\"text-align: right;\">\n",
              "      <th></th>\n",
              "      <th>20160104</th>\n",
              "      <th>20160105</th>\n",
              "      <th>20160106</th>\n",
              "      <th>20160107</th>\n",
              "      <th>20160108</th>\n",
              "      <th>20160111</th>\n",
              "      <th>20160112</th>\n",
              "      <th>20160113</th>\n",
              "      <th>20160114</th>\n",
              "      <th>20160115</th>\n",
              "      <th>20160119</th>\n",
              "      <th>20160120</th>\n",
              "      <th>20160121</th>\n",
              "      <th>20160122</th>\n",
              "      <th>20160125</th>\n",
              "      <th>20160126</th>\n",
              "      <th>20160127</th>\n",
              "      <th>20160128</th>\n",
              "      <th>20160129</th>\n",
              "      <th>20160201</th>\n",
              "      <th>20160202</th>\n",
              "      <th>20160203</th>\n",
              "      <th>20160204</th>\n",
              "      <th>20160205</th>\n",
              "      <th>20160208</th>\n",
              "      <th>20160209</th>\n",
              "      <th>20160210</th>\n",
              "      <th>20160211</th>\n",
              "      <th>20160212</th>\n",
              "      <th>20160216</th>\n",
              "      <th>20160217</th>\n",
              "      <th>20160218</th>\n",
              "      <th>20160219</th>\n",
              "      <th>20160222</th>\n",
              "      <th>20160223</th>\n",
              "      <th>20160224</th>\n",
              "      <th>20160225</th>\n",
              "      <th>20160226</th>\n",
              "      <th>20160227</th>\n",
              "      <th>20160229</th>\n",
              "      <th>...</th>\n",
              "      <th>20210106</th>\n",
              "      <th>20210107</th>\n",
              "      <th>20210108</th>\n",
              "      <th>20210111</th>\n",
              "      <th>20210112</th>\n",
              "      <th>20210113</th>\n",
              "      <th>20210114</th>\n",
              "      <th>20210115</th>\n",
              "      <th>20210119</th>\n",
              "      <th>20210120</th>\n",
              "      <th>20210121</th>\n",
              "      <th>20210122</th>\n",
              "      <th>20210125</th>\n",
              "      <th>20210126</th>\n",
              "      <th>20210127</th>\n",
              "      <th>20210128</th>\n",
              "      <th>20210129</th>\n",
              "      <th>20210201</th>\n",
              "      <th>20210202</th>\n",
              "      <th>20210203</th>\n",
              "      <th>20210204</th>\n",
              "      <th>20210205</th>\n",
              "      <th>20210208</th>\n",
              "      <th>20210209</th>\n",
              "      <th>20210210</th>\n",
              "      <th>20210211</th>\n",
              "      <th>20210212</th>\n",
              "      <th>20210216</th>\n",
              "      <th>20210217</th>\n",
              "      <th>20210218</th>\n",
              "      <th>20210219</th>\n",
              "      <th>20210222</th>\n",
              "      <th>20210223</th>\n",
              "      <th>20210224</th>\n",
              "      <th>20210225</th>\n",
              "      <th>20210226</th>\n",
              "      <th>20210301</th>\n",
              "      <th>20210302</th>\n",
              "      <th>20210303</th>\n",
              "      <th>20210304</th>\n",
              "    </tr>\n",
              "  </thead>\n",
              "  <tbody>\n",
              "    <tr>\n",
              "      <th>MMM</th>\n",
              "      <td>146.82</td>\n",
              "      <td>147.46</td>\n",
              "      <td>144.49</td>\n",
              "      <td>140.97</td>\n",
              "      <td>140.49</td>\n",
              "      <td>140.46</td>\n",
              "      <td>140.86</td>\n",
              "      <td>138.72</td>\n",
              "      <td>141.18</td>\n",
              "      <td>138.69</td>\n",
              "      <td>138.39</td>\n",
              "      <td>136.96</td>\n",
              "      <td>137.76</td>\n",
              "      <td>139.52</td>\n",
              "      <td>137.57</td>\n",
              "      <td>144.78</td>\n",
              "      <td>145.55</td>\n",
              "      <td>147.32</td>\n",
              "      <td>151.00</td>\n",
              "      <td>148.73</td>\n",
              "      <td>147.87</td>\n",
              "      <td>152.52</td>\n",
              "      <td>153.44</td>\n",
              "      <td>153.47</td>\n",
              "      <td>153.90</td>\n",
              "      <td>154.74</td>\n",
              "      <td>152.45</td>\n",
              "      <td>150.67</td>\n",
              "      <td>153.96</td>\n",
              "      <td>155.53</td>\n",
              "      <td>156.62</td>\n",
              "      <td>156.78</td>\n",
              "      <td>156.45</td>\n",
              "      <td>157.70</td>\n",
              "      <td>156.17</td>\n",
              "      <td>157.22</td>\n",
              "      <td>158.99</td>\n",
              "      <td>158.27</td>\n",
              "      <td>158.27</td>\n",
              "      <td>156.87</td>\n",
              "      <td>...</td>\n",
              "      <td>174.19</td>\n",
              "      <td>169.72</td>\n",
              "      <td>166.62</td>\n",
              "      <td>165.20</td>\n",
              "      <td>166.51</td>\n",
              "      <td>166.28</td>\n",
              "      <td>166.41</td>\n",
              "      <td>165.55</td>\n",
              "      <td>169.12</td>\n",
              "      <td>170.22</td>\n",
              "      <td>170.67</td>\n",
              "      <td>169.04</td>\n",
              "      <td>170.39</td>\n",
              "      <td>175.95</td>\n",
              "      <td>186.65</td>\n",
              "      <td>183.42</td>\n",
              "      <td>175.66</td>\n",
              "      <td>174.70</td>\n",
              "      <td>175.02</td>\n",
              "      <td>175.48</td>\n",
              "      <td>177.10</td>\n",
              "      <td>179.01</td>\n",
              "      <td>180.76</td>\n",
              "      <td>180.94</td>\n",
              "      <td>181.08</td>\n",
              "      <td>177.21</td>\n",
              "      <td>178.70</td>\n",
              "      <td>176.63</td>\n",
              "      <td>176.65</td>\n",
              "      <td>179.37</td>\n",
              "      <td>176.54</td>\n",
              "      <td>176.12</td>\n",
              "      <td>176.17</td>\n",
              "      <td>177.63</td>\n",
              "      <td>178.76</td>\n",
              "      <td>175.06</td>\n",
              "      <td>176.41</td>\n",
              "      <td>177.11</td>\n",
              "      <td>178.06</td>\n",
              "      <td>177.63</td>\n",
              "    </tr>\n",
              "    <tr>\n",
              "      <th>ABT</th>\n",
              "      <td>42.93</td>\n",
              "      <td>42.92</td>\n",
              "      <td>42.56</td>\n",
              "      <td>41.54</td>\n",
              "      <td>40.67</td>\n",
              "      <td>40.73</td>\n",
              "      <td>41.46</td>\n",
              "      <td>40.28</td>\n",
              "      <td>41.10</td>\n",
              "      <td>40.54</td>\n",
              "      <td>40.43</td>\n",
              "      <td>39.96</td>\n",
              "      <td>39.48</td>\n",
              "      <td>40.03</td>\n",
              "      <td>39.66</td>\n",
              "      <td>40.16</td>\n",
              "      <td>40.47</td>\n",
              "      <td>36.71</td>\n",
              "      <td>37.85</td>\n",
              "      <td>38.45</td>\n",
              "      <td>37.88</td>\n",
              "      <td>38.02</td>\n",
              "      <td>38.01</td>\n",
              "      <td>37.41</td>\n",
              "      <td>37.46</td>\n",
              "      <td>37.00</td>\n",
              "      <td>37.21</td>\n",
              "      <td>36.34</td>\n",
              "      <td>37.13</td>\n",
              "      <td>37.99</td>\n",
              "      <td>38.45</td>\n",
              "      <td>38.31</td>\n",
              "      <td>38.53</td>\n",
              "      <td>39.16</td>\n",
              "      <td>38.39</td>\n",
              "      <td>39.20</td>\n",
              "      <td>39.63</td>\n",
              "      <td>39.52</td>\n",
              "      <td>39.52</td>\n",
              "      <td>38.74</td>\n",
              "      <td>...</td>\n",
              "      <td>110.23</td>\n",
              "      <td>111.30</td>\n",
              "      <td>111.61</td>\n",
              "      <td>110.84</td>\n",
              "      <td>108.84</td>\n",
              "      <td>112.15</td>\n",
              "      <td>110.04</td>\n",
              "      <td>111.30</td>\n",
              "      <td>112.57</td>\n",
              "      <td>112.89</td>\n",
              "      <td>112.95</td>\n",
              "      <td>112.84</td>\n",
              "      <td>114.72</td>\n",
              "      <td>114.73</td>\n",
              "      <td>114.29</td>\n",
              "      <td>120.39</td>\n",
              "      <td>123.59</td>\n",
              "      <td>122.54</td>\n",
              "      <td>120.24</td>\n",
              "      <td>120.22</td>\n",
              "      <td>119.74</td>\n",
              "      <td>124.03</td>\n",
              "      <td>124.50</td>\n",
              "      <td>125.15</td>\n",
              "      <td>125.29</td>\n",
              "      <td>126.84</td>\n",
              "      <td>128.23</td>\n",
              "      <td>128.02</td>\n",
              "      <td>127.24</td>\n",
              "      <td>125.41</td>\n",
              "      <td>123.04</td>\n",
              "      <td>122.55</td>\n",
              "      <td>120.80</td>\n",
              "      <td>122.38</td>\n",
              "      <td>121.58</td>\n",
              "      <td>119.78</td>\n",
              "      <td>122.21</td>\n",
              "      <td>122.53</td>\n",
              "      <td>119.18</td>\n",
              "      <td>116.01</td>\n",
              "    </tr>\n",
              "  </tbody>\n",
              "</table>\n",
              "<p>2 rows × 1302 columns</p>\n",
              "</div>"
            ],
            "text/plain": [
              "     20160104  20160105  20160106  ...  20210302  20210303  20210304\n",
              "MMM    146.82    147.46    144.49  ...    177.11    178.06    177.63\n",
              "ABT     42.93     42.92     42.56  ...    122.53    119.18    116.01\n",
              "\n",
              "[2 rows x 1302 columns]"
            ]
          },
          "metadata": {
            "tags": []
          },
          "execution_count": 9
        }
      ]
    },
    {
      "cell_type": "markdown",
      "metadata": {
        "id": "vRgVV_A2Y6Ta"
      },
      "source": [
        "#### Генерация названий инструментов (заменить реальными)"
      ]
    },
    {
      "cell_type": "code",
      "metadata": {
        "colab": {
          "base_uri": "https://localhost:8080/"
        },
        "id": "y1W5Wn30Y289",
        "outputId": "998d9da3-e2d4-4ddb-92aa-44677f260dbb"
      },
      "source": [
        "np.random.seed(25)\n",
        "\n",
        "n_instruments = len(instruments)\n",
        "rw = RandomWord(max_word_size=5, constant_word_size=True)\n",
        "instruments_name_list = rw.getList(n_instruments)\n",
        "instruments_name_list[:5]"
      ],
      "execution_count": null,
      "outputs": [
        {
          "output_type": "execute_result",
          "data": {
            "text/plain": [
              "['NsimV', 'SxbXD', 'BVQhi', 'WgTgV', 'mkorP']"
            ]
          },
          "metadata": {
            "tags": []
          },
          "execution_count": 10
        }
      ]
    },
    {
      "cell_type": "code",
      "metadata": {
        "colab": {
          "base_uri": "https://localhost:8080/",
          "height": 35
        },
        "id": "c9l1-XfMt85I",
        "outputId": "296c1552-86df-4f46-e691-2a762226f4ec"
      },
      "source": [
        "name_dict = {instruments[i]: instruments_name_list[i] for i in range(len(instruments))}\n",
        "name_dict['NI'] "
      ],
      "execution_count": null,
      "outputs": [
        {
          "output_type": "execute_result",
          "data": {
            "application/vnd.google.colaboratory.intrinsic+json": {
              "type": "string"
            },
            "text/plain": [
              "'YRfZF'"
            ]
          },
          "metadata": {
            "tags": []
          },
          "execution_count": 11
        }
      ]
    },
    {
      "cell_type": "markdown",
      "metadata": {
        "id": "G6pOj27KC_bk"
      },
      "source": [
        "### 3. Трансформация данных"
      ]
    },
    {
      "cell_type": "markdown",
      "metadata": {
        "id": "2t70f0bFQgTd"
      },
      "source": [
        "#### Отсутствуют данные на начало периода:"
      ]
    },
    {
      "cell_type": "code",
      "metadata": {
        "colab": {
          "base_uri": "https://localhost:8080/"
        },
        "id": "-vYFPAfQLweB",
        "outputId": "a56bcc95-cd49-49c7-ec17-bb4a12b9282f"
      },
      "source": [
        "no_data = np.isnan(data_3D[:, 0, 0])\n",
        "instr_no_data = instruments[no_data].to_list()\n",
        "for i, instr in enumerate(instr_no_data):\n",
        "  date = np.isnan(data_3D[no_data, :, 0][i]).sum()\n",
        "  print(f'{instr}: \\t {dates[date - 1]}')"
      ],
      "execution_count": null,
      "outputs": [
        {
          "output_type": "stream",
          "text": [
            "AMCR: \t 20190611\n",
            "CTVA: \t 20190524\n",
            "FTV: \t 20160613\n",
            "FOXA: \t 20190312\n",
            "FOX: \t 20190313\n",
            "LW: \t 20161102\n",
            "LIN: \t 20161005\n"
          ],
          "name": "stdout"
        }
      ]
    },
    {
      "cell_type": "code",
      "metadata": {
        "colab": {
          "base_uri": "https://localhost:8080/"
        },
        "id": "1VPdFVyunKnH",
        "outputId": "6d63fa9b-6743-4061-ab27-e80ebbabde46"
      },
      "source": [
        "data_3D = data_3D[~no_data, :, :]\n",
        "instruments = instruments[~no_data]\n",
        "print(f'data_3D.shape = {data_3D.shape}, instruments.shape = {instruments.shape}')"
      ],
      "execution_count": null,
      "outputs": [
        {
          "output_type": "stream",
          "text": [
            "data_3D.shape = (485, 1302, 7), instruments.shape = (485,)\n"
          ],
          "name": "stdout"
        }
      ]
    },
    {
      "cell_type": "markdown",
      "metadata": {
        "id": "Bvw5zxeqjPf9"
      },
      "source": [
        "Содержание слоев:\n",
        "* Данные первых 4 слоев (Open, High, Low, Close) приводим к состоянию log(x(t) / x(t-2)) - темпы роста / падения Open, High, Low, Close\n",
        "* Данные 5 слоя (Volume) берутся без изменений.\n",
        "* Данные 6 и 7 слоев - (High - Low) / Open и (Open - Close) / Open"
      ]
    },
    {
      "cell_type": "code",
      "metadata": {
        "colab": {
          "base_uri": "https://localhost:8080/"
        },
        "id": "sPxjXLkUo4QS",
        "outputId": "2428b2e6-d45d-47b4-a623-6cf91468be90"
      },
      "source": [
        "data_transformed_3D = np.full((data_3D.shape), np.nan, np.float32)\n",
        "for i in range(2, data_3D.shape[1]):  \n",
        "  data_transformed_3D[:, i, :4] = np.log(data_3D[:, i, :4] / (data_3D[:, i -2, :4]))\n",
        "  \n",
        "data_transformed_3D[:, :, 4:] = data_3D[:, :, 4:]\n",
        "\n",
        "data_transformed_3D[:2, :5, 3]"
      ],
      "execution_count": null,
      "outputs": [
        {
          "output_type": "execute_result",
          "data": {
            "text/plain": [
              "array([[        nan,         nan, -0.01599705, -0.04500985, -0.02807399],\n",
              "       [        nan,         nan, -0.00865604, -0.0326811 , -0.04542413]],\n",
              "      dtype=float32)"
            ]
          },
          "metadata": {
            "tags": []
          },
          "execution_count": 14
        }
      ]
    },
    {
      "cell_type": "markdown",
      "metadata": {
        "id": "5J_v6Tz0o0z-"
      },
      "source": [
        "### 4. Данные для тренировки модели"
      ]
    },
    {
      "cell_type": "code",
      "metadata": {
        "id": "ugujDiGY7j7R"
      },
      "source": [
        "def get_y_class(y, enforce_class=False):\n",
        "  y_class = np.zeros(y.shape)\n",
        "  y_class[y > 0] = 1\n",
        "\n",
        "  if enforce_class:              # на случай, если будут все 0 или 1\n",
        "    y_class[y.argmax()] = 1\n",
        "    y_class[y.argmin()] = 0\n",
        "  \n",
        "  return y_class"
      ],
      "execution_count": null,
      "outputs": []
    },
    {
      "cell_type": "code",
      "metadata": {
        "colab": {
          "base_uri": "https://localhost:8080/"
        },
        "id": "huiwqbR8zyaS",
        "outputId": "94f31457-dab2-4e2f-c1dd-7b0e36d089ff"
      },
      "source": [
        "train_set_3D = {}\n",
        "start_ind = 2\n",
        "for i in range(1, 10):\n",
        "  if i == 9:\n",
        "    print('\\nOut of sample:')\n",
        "  end_ind = start_ind + lookback\n",
        "\n",
        "  X_train = data_transformed_3D[:, start_ind:end_ind, :]\n",
        "  y_train = get_y_class(data_transformed_3D[:, end_ind + 1, 3])     # y берется из 4 слоя (Close)\n",
        "  train_set_3D[i] = (X_train, y_train)\n",
        "\n",
        "  print(f\"{i}: X_train = data_transformed_3D[:, {start_ind}:{end_ind}, :], y_train = get_y_class(data_transformed_3D[:, {end_ind + 1}, 3])\")    \n",
        "  start_ind += step \n",
        "\n",
        "print(f'\\ndata_days = {data_days}')\n",
        "print(f'out_of_sample_days = {out_of_sample_days}')"
      ],
      "execution_count": null,
      "outputs": [
        {
          "output_type": "stream",
          "text": [
            "1: X_train = data_transformed_3D[:, 2:756, :], y_train = get_y_class(data_transformed_3D[:, 757, 3])\n",
            "2: X_train = data_transformed_3D[:, 65:819, :], y_train = get_y_class(data_transformed_3D[:, 820, 3])\n",
            "3: X_train = data_transformed_3D[:, 128:882, :], y_train = get_y_class(data_transformed_3D[:, 883, 3])\n",
            "4: X_train = data_transformed_3D[:, 191:945, :], y_train = get_y_class(data_transformed_3D[:, 946, 3])\n",
            "5: X_train = data_transformed_3D[:, 254:1008, :], y_train = get_y_class(data_transformed_3D[:, 1009, 3])\n",
            "6: X_train = data_transformed_3D[:, 317:1071, :], y_train = get_y_class(data_transformed_3D[:, 1072, 3])\n",
            "7: X_train = data_transformed_3D[:, 380:1134, :], y_train = get_y_class(data_transformed_3D[:, 1135, 3])\n",
            "8: X_train = data_transformed_3D[:, 443:1197, :], y_train = get_y_class(data_transformed_3D[:, 1198, 3])\n",
            "\n",
            "Out of sample:\n",
            "9: X_train = data_transformed_3D[:, 506:1260, :], y_train = get_y_class(data_transformed_3D[:, 1261, 3])\n",
            "\n",
            "data_days = 1261\n",
            "out_of_sample_days = 41\n"
          ],
          "name": "stdout"
        }
      ]
    },
    {
      "cell_type": "markdown",
      "metadata": {
        "id": "dAdWJGKI11fZ"
      },
      "source": [
        "#### Данные для обучения одной модели (из девяти)."
      ]
    },
    {
      "cell_type": "code",
      "metadata": {
        "colab": {
          "base_uri": "https://localhost:8080/"
        },
        "id": "mVVHeFvrMZN2",
        "outputId": "f3d50982-a951-4c55-f3a9-6c77275f959d"
      },
      "source": [
        "(X_train, y_train) = train_set_3D[1]\n",
        "print(f'X_train.shape = {X_train.shape}, y_train.shape = {y_train.shape}')\n",
        "\n",
        "np.unique(y_train, return_counts=True)"
      ],
      "execution_count": null,
      "outputs": [
        {
          "output_type": "stream",
          "text": [
            "X_train.shape = (485, 754, 7), y_train.shape = (485,)\n"
          ],
          "name": "stdout"
        },
        {
          "output_type": "execute_result",
          "data": {
            "text/plain": [
              "(array([0., 1.]), array([101, 384]))"
            ]
          },
          "metadata": {
            "tags": []
          },
          "execution_count": 17
        }
      ]
    },
    {
      "cell_type": "markdown",
      "metadata": {
        "id": "Fy2Iz0uSwIQH"
      },
      "source": [
        "### 5. Данные для предсказаний на основе обученной модели"
      ]
    },
    {
      "cell_type": "markdown",
      "metadata": {
        "id": "yWTHK-fRtLai"
      },
      "source": [
        "* После рассчета коэффициентов модели[1], например, предсказываются у_val на каждый день следующего квартала. \n",
        "* Эта процедура повторяется после каждого (из 9) обучения модели с той только разницей, что out_of_sample_days у нас только 40, а не 63."
      ]
    },
    {
      "cell_type": "code",
      "metadata": {
        "colab": {
          "base_uri": "https://localhost:8080/"
        },
        "id": "Ahbcu_OG2pLm",
        "outputId": "1180ec89-9dfc-478c-d5b2-6dda1c942b7a"
      },
      "source": [
        "val_set_3D = {}\n",
        "start_ind = 2\n",
        "step_to_use = step\n",
        "for i in range(1, 10):  \n",
        "  model_val_set = {}\n",
        "  if i == 9:\n",
        "    print('\\nOut of sample:')\n",
        "    step_to_use = out_of_sample_days - 1\n",
        "  else:\n",
        "    print(f'\\nДанные для прогнозов по модели {i}')   \n",
        "  for j in range(step_to_use):\n",
        "    X_val = data_transformed_3D[:, start_ind + j : start_ind + j + lookback, :]        \n",
        "    y_val = get_y_class(data_transformed_3D[:, start_ind + j + lookback + 1, 3])   # y берется из 4 слоя (Close)\n",
        "    model_val_set[j + 1] = (X_val, y_val)    \n",
        "    print(f\"{j + 1}: X_val = data_transformed_3D[:, {start_ind + j}:{start_ind + j+lookback}, :], y_val = get_y_class(data_transformed_3D[:, {start_ind+ j+lookback + 1}, 3])\")     \n",
        "  start_ind += step\n",
        "  val_set_3D[i] = model_val_set\n",
        "\n",
        "print(f'\\ndata_transformed[:, 2:].shape = {data_transformed_3D[:, 2:, :].shape}')"
      ],
      "execution_count": null,
      "outputs": [
        {
          "output_type": "stream",
          "text": [
            "\n",
            "Данные для прогнозов по модели 1\n",
            "1: X_val = data_transformed_3D[:, 2:756, :], y_val = get_y_class(data_transformed_3D[:, 757, 3])\n",
            "2: X_val = data_transformed_3D[:, 3:757, :], y_val = get_y_class(data_transformed_3D[:, 758, 3])\n",
            "3: X_val = data_transformed_3D[:, 4:758, :], y_val = get_y_class(data_transformed_3D[:, 759, 3])\n",
            "4: X_val = data_transformed_3D[:, 5:759, :], y_val = get_y_class(data_transformed_3D[:, 760, 3])\n",
            "5: X_val = data_transformed_3D[:, 6:760, :], y_val = get_y_class(data_transformed_3D[:, 761, 3])\n",
            "6: X_val = data_transformed_3D[:, 7:761, :], y_val = get_y_class(data_transformed_3D[:, 762, 3])\n",
            "7: X_val = data_transformed_3D[:, 8:762, :], y_val = get_y_class(data_transformed_3D[:, 763, 3])\n",
            "8: X_val = data_transformed_3D[:, 9:763, :], y_val = get_y_class(data_transformed_3D[:, 764, 3])\n",
            "9: X_val = data_transformed_3D[:, 10:764, :], y_val = get_y_class(data_transformed_3D[:, 765, 3])\n",
            "10: X_val = data_transformed_3D[:, 11:765, :], y_val = get_y_class(data_transformed_3D[:, 766, 3])\n",
            "11: X_val = data_transformed_3D[:, 12:766, :], y_val = get_y_class(data_transformed_3D[:, 767, 3])\n",
            "12: X_val = data_transformed_3D[:, 13:767, :], y_val = get_y_class(data_transformed_3D[:, 768, 3])\n",
            "13: X_val = data_transformed_3D[:, 14:768, :], y_val = get_y_class(data_transformed_3D[:, 769, 3])\n",
            "14: X_val = data_transformed_3D[:, 15:769, :], y_val = get_y_class(data_transformed_3D[:, 770, 3])\n",
            "15: X_val = data_transformed_3D[:, 16:770, :], y_val = get_y_class(data_transformed_3D[:, 771, 3])\n",
            "16: X_val = data_transformed_3D[:, 17:771, :], y_val = get_y_class(data_transformed_3D[:, 772, 3])\n",
            "17: X_val = data_transformed_3D[:, 18:772, :], y_val = get_y_class(data_transformed_3D[:, 773, 3])\n",
            "18: X_val = data_transformed_3D[:, 19:773, :], y_val = get_y_class(data_transformed_3D[:, 774, 3])\n",
            "19: X_val = data_transformed_3D[:, 20:774, :], y_val = get_y_class(data_transformed_3D[:, 775, 3])\n",
            "20: X_val = data_transformed_3D[:, 21:775, :], y_val = get_y_class(data_transformed_3D[:, 776, 3])\n",
            "21: X_val = data_transformed_3D[:, 22:776, :], y_val = get_y_class(data_transformed_3D[:, 777, 3])\n",
            "22: X_val = data_transformed_3D[:, 23:777, :], y_val = get_y_class(data_transformed_3D[:, 778, 3])\n",
            "23: X_val = data_transformed_3D[:, 24:778, :], y_val = get_y_class(data_transformed_3D[:, 779, 3])\n",
            "24: X_val = data_transformed_3D[:, 25:779, :], y_val = get_y_class(data_transformed_3D[:, 780, 3])\n",
            "25: X_val = data_transformed_3D[:, 26:780, :], y_val = get_y_class(data_transformed_3D[:, 781, 3])\n",
            "26: X_val = data_transformed_3D[:, 27:781, :], y_val = get_y_class(data_transformed_3D[:, 782, 3])\n",
            "27: X_val = data_transformed_3D[:, 28:782, :], y_val = get_y_class(data_transformed_3D[:, 783, 3])\n",
            "28: X_val = data_transformed_3D[:, 29:783, :], y_val = get_y_class(data_transformed_3D[:, 784, 3])\n",
            "29: X_val = data_transformed_3D[:, 30:784, :], y_val = get_y_class(data_transformed_3D[:, 785, 3])\n",
            "30: X_val = data_transformed_3D[:, 31:785, :], y_val = get_y_class(data_transformed_3D[:, 786, 3])\n",
            "31: X_val = data_transformed_3D[:, 32:786, :], y_val = get_y_class(data_transformed_3D[:, 787, 3])\n",
            "32: X_val = data_transformed_3D[:, 33:787, :], y_val = get_y_class(data_transformed_3D[:, 788, 3])\n",
            "33: X_val = data_transformed_3D[:, 34:788, :], y_val = get_y_class(data_transformed_3D[:, 789, 3])\n",
            "34: X_val = data_transformed_3D[:, 35:789, :], y_val = get_y_class(data_transformed_3D[:, 790, 3])\n",
            "35: X_val = data_transformed_3D[:, 36:790, :], y_val = get_y_class(data_transformed_3D[:, 791, 3])\n",
            "36: X_val = data_transformed_3D[:, 37:791, :], y_val = get_y_class(data_transformed_3D[:, 792, 3])\n",
            "37: X_val = data_transformed_3D[:, 38:792, :], y_val = get_y_class(data_transformed_3D[:, 793, 3])\n",
            "38: X_val = data_transformed_3D[:, 39:793, :], y_val = get_y_class(data_transformed_3D[:, 794, 3])\n",
            "39: X_val = data_transformed_3D[:, 40:794, :], y_val = get_y_class(data_transformed_3D[:, 795, 3])\n",
            "40: X_val = data_transformed_3D[:, 41:795, :], y_val = get_y_class(data_transformed_3D[:, 796, 3])\n",
            "41: X_val = data_transformed_3D[:, 42:796, :], y_val = get_y_class(data_transformed_3D[:, 797, 3])\n",
            "42: X_val = data_transformed_3D[:, 43:797, :], y_val = get_y_class(data_transformed_3D[:, 798, 3])\n",
            "43: X_val = data_transformed_3D[:, 44:798, :], y_val = get_y_class(data_transformed_3D[:, 799, 3])\n",
            "44: X_val = data_transformed_3D[:, 45:799, :], y_val = get_y_class(data_transformed_3D[:, 800, 3])\n",
            "45: X_val = data_transformed_3D[:, 46:800, :], y_val = get_y_class(data_transformed_3D[:, 801, 3])\n",
            "46: X_val = data_transformed_3D[:, 47:801, :], y_val = get_y_class(data_transformed_3D[:, 802, 3])\n",
            "47: X_val = data_transformed_3D[:, 48:802, :], y_val = get_y_class(data_transformed_3D[:, 803, 3])\n",
            "48: X_val = data_transformed_3D[:, 49:803, :], y_val = get_y_class(data_transformed_3D[:, 804, 3])\n",
            "49: X_val = data_transformed_3D[:, 50:804, :], y_val = get_y_class(data_transformed_3D[:, 805, 3])\n",
            "50: X_val = data_transformed_3D[:, 51:805, :], y_val = get_y_class(data_transformed_3D[:, 806, 3])\n",
            "51: X_val = data_transformed_3D[:, 52:806, :], y_val = get_y_class(data_transformed_3D[:, 807, 3])\n",
            "52: X_val = data_transformed_3D[:, 53:807, :], y_val = get_y_class(data_transformed_3D[:, 808, 3])\n",
            "53: X_val = data_transformed_3D[:, 54:808, :], y_val = get_y_class(data_transformed_3D[:, 809, 3])\n",
            "54: X_val = data_transformed_3D[:, 55:809, :], y_val = get_y_class(data_transformed_3D[:, 810, 3])\n",
            "55: X_val = data_transformed_3D[:, 56:810, :], y_val = get_y_class(data_transformed_3D[:, 811, 3])\n",
            "56: X_val = data_transformed_3D[:, 57:811, :], y_val = get_y_class(data_transformed_3D[:, 812, 3])\n",
            "57: X_val = data_transformed_3D[:, 58:812, :], y_val = get_y_class(data_transformed_3D[:, 813, 3])\n",
            "58: X_val = data_transformed_3D[:, 59:813, :], y_val = get_y_class(data_transformed_3D[:, 814, 3])\n",
            "59: X_val = data_transformed_3D[:, 60:814, :], y_val = get_y_class(data_transformed_3D[:, 815, 3])\n",
            "60: X_val = data_transformed_3D[:, 61:815, :], y_val = get_y_class(data_transformed_3D[:, 816, 3])\n",
            "61: X_val = data_transformed_3D[:, 62:816, :], y_val = get_y_class(data_transformed_3D[:, 817, 3])\n",
            "62: X_val = data_transformed_3D[:, 63:817, :], y_val = get_y_class(data_transformed_3D[:, 818, 3])\n",
            "63: X_val = data_transformed_3D[:, 64:818, :], y_val = get_y_class(data_transformed_3D[:, 819, 3])\n",
            "\n",
            "Данные для прогнозов по модели 2\n",
            "1: X_val = data_transformed_3D[:, 65:819, :], y_val = get_y_class(data_transformed_3D[:, 820, 3])\n",
            "2: X_val = data_transformed_3D[:, 66:820, :], y_val = get_y_class(data_transformed_3D[:, 821, 3])\n",
            "3: X_val = data_transformed_3D[:, 67:821, :], y_val = get_y_class(data_transformed_3D[:, 822, 3])\n",
            "4: X_val = data_transformed_3D[:, 68:822, :], y_val = get_y_class(data_transformed_3D[:, 823, 3])\n",
            "5: X_val = data_transformed_3D[:, 69:823, :], y_val = get_y_class(data_transformed_3D[:, 824, 3])\n",
            "6: X_val = data_transformed_3D[:, 70:824, :], y_val = get_y_class(data_transformed_3D[:, 825, 3])\n",
            "7: X_val = data_transformed_3D[:, 71:825, :], y_val = get_y_class(data_transformed_3D[:, 826, 3])\n",
            "8: X_val = data_transformed_3D[:, 72:826, :], y_val = get_y_class(data_transformed_3D[:, 827, 3])\n",
            "9: X_val = data_transformed_3D[:, 73:827, :], y_val = get_y_class(data_transformed_3D[:, 828, 3])\n",
            "10: X_val = data_transformed_3D[:, 74:828, :], y_val = get_y_class(data_transformed_3D[:, 829, 3])\n",
            "11: X_val = data_transformed_3D[:, 75:829, :], y_val = get_y_class(data_transformed_3D[:, 830, 3])\n",
            "12: X_val = data_transformed_3D[:, 76:830, :], y_val = get_y_class(data_transformed_3D[:, 831, 3])\n",
            "13: X_val = data_transformed_3D[:, 77:831, :], y_val = get_y_class(data_transformed_3D[:, 832, 3])\n",
            "14: X_val = data_transformed_3D[:, 78:832, :], y_val = get_y_class(data_transformed_3D[:, 833, 3])\n",
            "15: X_val = data_transformed_3D[:, 79:833, :], y_val = get_y_class(data_transformed_3D[:, 834, 3])\n",
            "16: X_val = data_transformed_3D[:, 80:834, :], y_val = get_y_class(data_transformed_3D[:, 835, 3])\n",
            "17: X_val = data_transformed_3D[:, 81:835, :], y_val = get_y_class(data_transformed_3D[:, 836, 3])\n",
            "18: X_val = data_transformed_3D[:, 82:836, :], y_val = get_y_class(data_transformed_3D[:, 837, 3])\n",
            "19: X_val = data_transformed_3D[:, 83:837, :], y_val = get_y_class(data_transformed_3D[:, 838, 3])\n",
            "20: X_val = data_transformed_3D[:, 84:838, :], y_val = get_y_class(data_transformed_3D[:, 839, 3])\n",
            "21: X_val = data_transformed_3D[:, 85:839, :], y_val = get_y_class(data_transformed_3D[:, 840, 3])\n",
            "22: X_val = data_transformed_3D[:, 86:840, :], y_val = get_y_class(data_transformed_3D[:, 841, 3])\n",
            "23: X_val = data_transformed_3D[:, 87:841, :], y_val = get_y_class(data_transformed_3D[:, 842, 3])\n",
            "24: X_val = data_transformed_3D[:, 88:842, :], y_val = get_y_class(data_transformed_3D[:, 843, 3])\n",
            "25: X_val = data_transformed_3D[:, 89:843, :], y_val = get_y_class(data_transformed_3D[:, 844, 3])\n",
            "26: X_val = data_transformed_3D[:, 90:844, :], y_val = get_y_class(data_transformed_3D[:, 845, 3])\n",
            "27: X_val = data_transformed_3D[:, 91:845, :], y_val = get_y_class(data_transformed_3D[:, 846, 3])\n",
            "28: X_val = data_transformed_3D[:, 92:846, :], y_val = get_y_class(data_transformed_3D[:, 847, 3])\n",
            "29: X_val = data_transformed_3D[:, 93:847, :], y_val = get_y_class(data_transformed_3D[:, 848, 3])\n",
            "30: X_val = data_transformed_3D[:, 94:848, :], y_val = get_y_class(data_transformed_3D[:, 849, 3])\n",
            "31: X_val = data_transformed_3D[:, 95:849, :], y_val = get_y_class(data_transformed_3D[:, 850, 3])\n",
            "32: X_val = data_transformed_3D[:, 96:850, :], y_val = get_y_class(data_transformed_3D[:, 851, 3])\n",
            "33: X_val = data_transformed_3D[:, 97:851, :], y_val = get_y_class(data_transformed_3D[:, 852, 3])\n",
            "34: X_val = data_transformed_3D[:, 98:852, :], y_val = get_y_class(data_transformed_3D[:, 853, 3])\n",
            "35: X_val = data_transformed_3D[:, 99:853, :], y_val = get_y_class(data_transformed_3D[:, 854, 3])\n",
            "36: X_val = data_transformed_3D[:, 100:854, :], y_val = get_y_class(data_transformed_3D[:, 855, 3])\n",
            "37: X_val = data_transformed_3D[:, 101:855, :], y_val = get_y_class(data_transformed_3D[:, 856, 3])\n",
            "38: X_val = data_transformed_3D[:, 102:856, :], y_val = get_y_class(data_transformed_3D[:, 857, 3])\n",
            "39: X_val = data_transformed_3D[:, 103:857, :], y_val = get_y_class(data_transformed_3D[:, 858, 3])\n",
            "40: X_val = data_transformed_3D[:, 104:858, :], y_val = get_y_class(data_transformed_3D[:, 859, 3])\n",
            "41: X_val = data_transformed_3D[:, 105:859, :], y_val = get_y_class(data_transformed_3D[:, 860, 3])\n",
            "42: X_val = data_transformed_3D[:, 106:860, :], y_val = get_y_class(data_transformed_3D[:, 861, 3])\n",
            "43: X_val = data_transformed_3D[:, 107:861, :], y_val = get_y_class(data_transformed_3D[:, 862, 3])\n",
            "44: X_val = data_transformed_3D[:, 108:862, :], y_val = get_y_class(data_transformed_3D[:, 863, 3])\n",
            "45: X_val = data_transformed_3D[:, 109:863, :], y_val = get_y_class(data_transformed_3D[:, 864, 3])\n",
            "46: X_val = data_transformed_3D[:, 110:864, :], y_val = get_y_class(data_transformed_3D[:, 865, 3])\n",
            "47: X_val = data_transformed_3D[:, 111:865, :], y_val = get_y_class(data_transformed_3D[:, 866, 3])\n",
            "48: X_val = data_transformed_3D[:, 112:866, :], y_val = get_y_class(data_transformed_3D[:, 867, 3])\n",
            "49: X_val = data_transformed_3D[:, 113:867, :], y_val = get_y_class(data_transformed_3D[:, 868, 3])\n",
            "50: X_val = data_transformed_3D[:, 114:868, :], y_val = get_y_class(data_transformed_3D[:, 869, 3])\n",
            "51: X_val = data_transformed_3D[:, 115:869, :], y_val = get_y_class(data_transformed_3D[:, 870, 3])\n",
            "52: X_val = data_transformed_3D[:, 116:870, :], y_val = get_y_class(data_transformed_3D[:, 871, 3])\n",
            "53: X_val = data_transformed_3D[:, 117:871, :], y_val = get_y_class(data_transformed_3D[:, 872, 3])\n",
            "54: X_val = data_transformed_3D[:, 118:872, :], y_val = get_y_class(data_transformed_3D[:, 873, 3])\n",
            "55: X_val = data_transformed_3D[:, 119:873, :], y_val = get_y_class(data_transformed_3D[:, 874, 3])\n",
            "56: X_val = data_transformed_3D[:, 120:874, :], y_val = get_y_class(data_transformed_3D[:, 875, 3])\n",
            "57: X_val = data_transformed_3D[:, 121:875, :], y_val = get_y_class(data_transformed_3D[:, 876, 3])\n",
            "58: X_val = data_transformed_3D[:, 122:876, :], y_val = get_y_class(data_transformed_3D[:, 877, 3])\n",
            "59: X_val = data_transformed_3D[:, 123:877, :], y_val = get_y_class(data_transformed_3D[:, 878, 3])\n",
            "60: X_val = data_transformed_3D[:, 124:878, :], y_val = get_y_class(data_transformed_3D[:, 879, 3])\n",
            "61: X_val = data_transformed_3D[:, 125:879, :], y_val = get_y_class(data_transformed_3D[:, 880, 3])\n",
            "62: X_val = data_transformed_3D[:, 126:880, :], y_val = get_y_class(data_transformed_3D[:, 881, 3])\n",
            "63: X_val = data_transformed_3D[:, 127:881, :], y_val = get_y_class(data_transformed_3D[:, 882, 3])\n",
            "\n",
            "Данные для прогнозов по модели 3\n",
            "1: X_val = data_transformed_3D[:, 128:882, :], y_val = get_y_class(data_transformed_3D[:, 883, 3])\n",
            "2: X_val = data_transformed_3D[:, 129:883, :], y_val = get_y_class(data_transformed_3D[:, 884, 3])\n",
            "3: X_val = data_transformed_3D[:, 130:884, :], y_val = get_y_class(data_transformed_3D[:, 885, 3])\n",
            "4: X_val = data_transformed_3D[:, 131:885, :], y_val = get_y_class(data_transformed_3D[:, 886, 3])\n",
            "5: X_val = data_transformed_3D[:, 132:886, :], y_val = get_y_class(data_transformed_3D[:, 887, 3])\n",
            "6: X_val = data_transformed_3D[:, 133:887, :], y_val = get_y_class(data_transformed_3D[:, 888, 3])\n",
            "7: X_val = data_transformed_3D[:, 134:888, :], y_val = get_y_class(data_transformed_3D[:, 889, 3])\n",
            "8: X_val = data_transformed_3D[:, 135:889, :], y_val = get_y_class(data_transformed_3D[:, 890, 3])\n",
            "9: X_val = data_transformed_3D[:, 136:890, :], y_val = get_y_class(data_transformed_3D[:, 891, 3])\n",
            "10: X_val = data_transformed_3D[:, 137:891, :], y_val = get_y_class(data_transformed_3D[:, 892, 3])\n",
            "11: X_val = data_transformed_3D[:, 138:892, :], y_val = get_y_class(data_transformed_3D[:, 893, 3])\n",
            "12: X_val = data_transformed_3D[:, 139:893, :], y_val = get_y_class(data_transformed_3D[:, 894, 3])\n",
            "13: X_val = data_transformed_3D[:, 140:894, :], y_val = get_y_class(data_transformed_3D[:, 895, 3])\n",
            "14: X_val = data_transformed_3D[:, 141:895, :], y_val = get_y_class(data_transformed_3D[:, 896, 3])\n",
            "15: X_val = data_transformed_3D[:, 142:896, :], y_val = get_y_class(data_transformed_3D[:, 897, 3])\n",
            "16: X_val = data_transformed_3D[:, 143:897, :], y_val = get_y_class(data_transformed_3D[:, 898, 3])\n",
            "17: X_val = data_transformed_3D[:, 144:898, :], y_val = get_y_class(data_transformed_3D[:, 899, 3])\n",
            "18: X_val = data_transformed_3D[:, 145:899, :], y_val = get_y_class(data_transformed_3D[:, 900, 3])\n",
            "19: X_val = data_transformed_3D[:, 146:900, :], y_val = get_y_class(data_transformed_3D[:, 901, 3])\n",
            "20: X_val = data_transformed_3D[:, 147:901, :], y_val = get_y_class(data_transformed_3D[:, 902, 3])\n",
            "21: X_val = data_transformed_3D[:, 148:902, :], y_val = get_y_class(data_transformed_3D[:, 903, 3])\n",
            "22: X_val = data_transformed_3D[:, 149:903, :], y_val = get_y_class(data_transformed_3D[:, 904, 3])\n",
            "23: X_val = data_transformed_3D[:, 150:904, :], y_val = get_y_class(data_transformed_3D[:, 905, 3])\n",
            "24: X_val = data_transformed_3D[:, 151:905, :], y_val = get_y_class(data_transformed_3D[:, 906, 3])\n",
            "25: X_val = data_transformed_3D[:, 152:906, :], y_val = get_y_class(data_transformed_3D[:, 907, 3])\n",
            "26: X_val = data_transformed_3D[:, 153:907, :], y_val = get_y_class(data_transformed_3D[:, 908, 3])\n",
            "27: X_val = data_transformed_3D[:, 154:908, :], y_val = get_y_class(data_transformed_3D[:, 909, 3])\n",
            "28: X_val = data_transformed_3D[:, 155:909, :], y_val = get_y_class(data_transformed_3D[:, 910, 3])\n",
            "29: X_val = data_transformed_3D[:, 156:910, :], y_val = get_y_class(data_transformed_3D[:, 911, 3])\n",
            "30: X_val = data_transformed_3D[:, 157:911, :], y_val = get_y_class(data_transformed_3D[:, 912, 3])\n",
            "31: X_val = data_transformed_3D[:, 158:912, :], y_val = get_y_class(data_transformed_3D[:, 913, 3])\n",
            "32: X_val = data_transformed_3D[:, 159:913, :], y_val = get_y_class(data_transformed_3D[:, 914, 3])\n",
            "33: X_val = data_transformed_3D[:, 160:914, :], y_val = get_y_class(data_transformed_3D[:, 915, 3])\n",
            "34: X_val = data_transformed_3D[:, 161:915, :], y_val = get_y_class(data_transformed_3D[:, 916, 3])\n",
            "35: X_val = data_transformed_3D[:, 162:916, :], y_val = get_y_class(data_transformed_3D[:, 917, 3])\n",
            "36: X_val = data_transformed_3D[:, 163:917, :], y_val = get_y_class(data_transformed_3D[:, 918, 3])\n",
            "37: X_val = data_transformed_3D[:, 164:918, :], y_val = get_y_class(data_transformed_3D[:, 919, 3])\n",
            "38: X_val = data_transformed_3D[:, 165:919, :], y_val = get_y_class(data_transformed_3D[:, 920, 3])\n",
            "39: X_val = data_transformed_3D[:, 166:920, :], y_val = get_y_class(data_transformed_3D[:, 921, 3])\n",
            "40: X_val = data_transformed_3D[:, 167:921, :], y_val = get_y_class(data_transformed_3D[:, 922, 3])\n",
            "41: X_val = data_transformed_3D[:, 168:922, :], y_val = get_y_class(data_transformed_3D[:, 923, 3])\n",
            "42: X_val = data_transformed_3D[:, 169:923, :], y_val = get_y_class(data_transformed_3D[:, 924, 3])\n",
            "43: X_val = data_transformed_3D[:, 170:924, :], y_val = get_y_class(data_transformed_3D[:, 925, 3])\n",
            "44: X_val = data_transformed_3D[:, 171:925, :], y_val = get_y_class(data_transformed_3D[:, 926, 3])\n",
            "45: X_val = data_transformed_3D[:, 172:926, :], y_val = get_y_class(data_transformed_3D[:, 927, 3])\n",
            "46: X_val = data_transformed_3D[:, 173:927, :], y_val = get_y_class(data_transformed_3D[:, 928, 3])\n",
            "47: X_val = data_transformed_3D[:, 174:928, :], y_val = get_y_class(data_transformed_3D[:, 929, 3])\n",
            "48: X_val = data_transformed_3D[:, 175:929, :], y_val = get_y_class(data_transformed_3D[:, 930, 3])\n",
            "49: X_val = data_transformed_3D[:, 176:930, :], y_val = get_y_class(data_transformed_3D[:, 931, 3])\n",
            "50: X_val = data_transformed_3D[:, 177:931, :], y_val = get_y_class(data_transformed_3D[:, 932, 3])\n",
            "51: X_val = data_transformed_3D[:, 178:932, :], y_val = get_y_class(data_transformed_3D[:, 933, 3])\n",
            "52: X_val = data_transformed_3D[:, 179:933, :], y_val = get_y_class(data_transformed_3D[:, 934, 3])\n",
            "53: X_val = data_transformed_3D[:, 180:934, :], y_val = get_y_class(data_transformed_3D[:, 935, 3])\n",
            "54: X_val = data_transformed_3D[:, 181:935, :], y_val = get_y_class(data_transformed_3D[:, 936, 3])\n",
            "55: X_val = data_transformed_3D[:, 182:936, :], y_val = get_y_class(data_transformed_3D[:, 937, 3])\n",
            "56: X_val = data_transformed_3D[:, 183:937, :], y_val = get_y_class(data_transformed_3D[:, 938, 3])\n",
            "57: X_val = data_transformed_3D[:, 184:938, :], y_val = get_y_class(data_transformed_3D[:, 939, 3])\n",
            "58: X_val = data_transformed_3D[:, 185:939, :], y_val = get_y_class(data_transformed_3D[:, 940, 3])\n",
            "59: X_val = data_transformed_3D[:, 186:940, :], y_val = get_y_class(data_transformed_3D[:, 941, 3])\n",
            "60: X_val = data_transformed_3D[:, 187:941, :], y_val = get_y_class(data_transformed_3D[:, 942, 3])\n",
            "61: X_val = data_transformed_3D[:, 188:942, :], y_val = get_y_class(data_transformed_3D[:, 943, 3])\n",
            "62: X_val = data_transformed_3D[:, 189:943, :], y_val = get_y_class(data_transformed_3D[:, 944, 3])\n",
            "63: X_val = data_transformed_3D[:, 190:944, :], y_val = get_y_class(data_transformed_3D[:, 945, 3])\n",
            "\n",
            "Данные для прогнозов по модели 4\n",
            "1: X_val = data_transformed_3D[:, 191:945, :], y_val = get_y_class(data_transformed_3D[:, 946, 3])\n",
            "2: X_val = data_transformed_3D[:, 192:946, :], y_val = get_y_class(data_transformed_3D[:, 947, 3])\n",
            "3: X_val = data_transformed_3D[:, 193:947, :], y_val = get_y_class(data_transformed_3D[:, 948, 3])\n",
            "4: X_val = data_transformed_3D[:, 194:948, :], y_val = get_y_class(data_transformed_3D[:, 949, 3])\n",
            "5: X_val = data_transformed_3D[:, 195:949, :], y_val = get_y_class(data_transformed_3D[:, 950, 3])\n",
            "6: X_val = data_transformed_3D[:, 196:950, :], y_val = get_y_class(data_transformed_3D[:, 951, 3])\n",
            "7: X_val = data_transformed_3D[:, 197:951, :], y_val = get_y_class(data_transformed_3D[:, 952, 3])\n",
            "8: X_val = data_transformed_3D[:, 198:952, :], y_val = get_y_class(data_transformed_3D[:, 953, 3])\n",
            "9: X_val = data_transformed_3D[:, 199:953, :], y_val = get_y_class(data_transformed_3D[:, 954, 3])\n",
            "10: X_val = data_transformed_3D[:, 200:954, :], y_val = get_y_class(data_transformed_3D[:, 955, 3])\n",
            "11: X_val = data_transformed_3D[:, 201:955, :], y_val = get_y_class(data_transformed_3D[:, 956, 3])\n",
            "12: X_val = data_transformed_3D[:, 202:956, :], y_val = get_y_class(data_transformed_3D[:, 957, 3])\n",
            "13: X_val = data_transformed_3D[:, 203:957, :], y_val = get_y_class(data_transformed_3D[:, 958, 3])\n",
            "14: X_val = data_transformed_3D[:, 204:958, :], y_val = get_y_class(data_transformed_3D[:, 959, 3])\n",
            "15: X_val = data_transformed_3D[:, 205:959, :], y_val = get_y_class(data_transformed_3D[:, 960, 3])\n",
            "16: X_val = data_transformed_3D[:, 206:960, :], y_val = get_y_class(data_transformed_3D[:, 961, 3])\n",
            "17: X_val = data_transformed_3D[:, 207:961, :], y_val = get_y_class(data_transformed_3D[:, 962, 3])\n",
            "18: X_val = data_transformed_3D[:, 208:962, :], y_val = get_y_class(data_transformed_3D[:, 963, 3])\n",
            "19: X_val = data_transformed_3D[:, 209:963, :], y_val = get_y_class(data_transformed_3D[:, 964, 3])\n",
            "20: X_val = data_transformed_3D[:, 210:964, :], y_val = get_y_class(data_transformed_3D[:, 965, 3])\n",
            "21: X_val = data_transformed_3D[:, 211:965, :], y_val = get_y_class(data_transformed_3D[:, 966, 3])\n",
            "22: X_val = data_transformed_3D[:, 212:966, :], y_val = get_y_class(data_transformed_3D[:, 967, 3])\n",
            "23: X_val = data_transformed_3D[:, 213:967, :], y_val = get_y_class(data_transformed_3D[:, 968, 3])\n",
            "24: X_val = data_transformed_3D[:, 214:968, :], y_val = get_y_class(data_transformed_3D[:, 969, 3])\n",
            "25: X_val = data_transformed_3D[:, 215:969, :], y_val = get_y_class(data_transformed_3D[:, 970, 3])\n",
            "26: X_val = data_transformed_3D[:, 216:970, :], y_val = get_y_class(data_transformed_3D[:, 971, 3])\n",
            "27: X_val = data_transformed_3D[:, 217:971, :], y_val = get_y_class(data_transformed_3D[:, 972, 3])\n",
            "28: X_val = data_transformed_3D[:, 218:972, :], y_val = get_y_class(data_transformed_3D[:, 973, 3])\n",
            "29: X_val = data_transformed_3D[:, 219:973, :], y_val = get_y_class(data_transformed_3D[:, 974, 3])\n",
            "30: X_val = data_transformed_3D[:, 220:974, :], y_val = get_y_class(data_transformed_3D[:, 975, 3])\n",
            "31: X_val = data_transformed_3D[:, 221:975, :], y_val = get_y_class(data_transformed_3D[:, 976, 3])\n",
            "32: X_val = data_transformed_3D[:, 222:976, :], y_val = get_y_class(data_transformed_3D[:, 977, 3])\n",
            "33: X_val = data_transformed_3D[:, 223:977, :], y_val = get_y_class(data_transformed_3D[:, 978, 3])\n",
            "34: X_val = data_transformed_3D[:, 224:978, :], y_val = get_y_class(data_transformed_3D[:, 979, 3])\n",
            "35: X_val = data_transformed_3D[:, 225:979, :], y_val = get_y_class(data_transformed_3D[:, 980, 3])\n",
            "36: X_val = data_transformed_3D[:, 226:980, :], y_val = get_y_class(data_transformed_3D[:, 981, 3])\n",
            "37: X_val = data_transformed_3D[:, 227:981, :], y_val = get_y_class(data_transformed_3D[:, 982, 3])\n",
            "38: X_val = data_transformed_3D[:, 228:982, :], y_val = get_y_class(data_transformed_3D[:, 983, 3])\n",
            "39: X_val = data_transformed_3D[:, 229:983, :], y_val = get_y_class(data_transformed_3D[:, 984, 3])\n",
            "40: X_val = data_transformed_3D[:, 230:984, :], y_val = get_y_class(data_transformed_3D[:, 985, 3])\n",
            "41: X_val = data_transformed_3D[:, 231:985, :], y_val = get_y_class(data_transformed_3D[:, 986, 3])\n",
            "42: X_val = data_transformed_3D[:, 232:986, :], y_val = get_y_class(data_transformed_3D[:, 987, 3])\n",
            "43: X_val = data_transformed_3D[:, 233:987, :], y_val = get_y_class(data_transformed_3D[:, 988, 3])\n",
            "44: X_val = data_transformed_3D[:, 234:988, :], y_val = get_y_class(data_transformed_3D[:, 989, 3])\n",
            "45: X_val = data_transformed_3D[:, 235:989, :], y_val = get_y_class(data_transformed_3D[:, 990, 3])\n",
            "46: X_val = data_transformed_3D[:, 236:990, :], y_val = get_y_class(data_transformed_3D[:, 991, 3])\n",
            "47: X_val = data_transformed_3D[:, 237:991, :], y_val = get_y_class(data_transformed_3D[:, 992, 3])\n",
            "48: X_val = data_transformed_3D[:, 238:992, :], y_val = get_y_class(data_transformed_3D[:, 993, 3])\n",
            "49: X_val = data_transformed_3D[:, 239:993, :], y_val = get_y_class(data_transformed_3D[:, 994, 3])\n",
            "50: X_val = data_transformed_3D[:, 240:994, :], y_val = get_y_class(data_transformed_3D[:, 995, 3])\n",
            "51: X_val = data_transformed_3D[:, 241:995, :], y_val = get_y_class(data_transformed_3D[:, 996, 3])\n",
            "52: X_val = data_transformed_3D[:, 242:996, :], y_val = get_y_class(data_transformed_3D[:, 997, 3])\n",
            "53: X_val = data_transformed_3D[:, 243:997, :], y_val = get_y_class(data_transformed_3D[:, 998, 3])\n",
            "54: X_val = data_transformed_3D[:, 244:998, :], y_val = get_y_class(data_transformed_3D[:, 999, 3])\n",
            "55: X_val = data_transformed_3D[:, 245:999, :], y_val = get_y_class(data_transformed_3D[:, 1000, 3])\n",
            "56: X_val = data_transformed_3D[:, 246:1000, :], y_val = get_y_class(data_transformed_3D[:, 1001, 3])\n",
            "57: X_val = data_transformed_3D[:, 247:1001, :], y_val = get_y_class(data_transformed_3D[:, 1002, 3])\n",
            "58: X_val = data_transformed_3D[:, 248:1002, :], y_val = get_y_class(data_transformed_3D[:, 1003, 3])\n",
            "59: X_val = data_transformed_3D[:, 249:1003, :], y_val = get_y_class(data_transformed_3D[:, 1004, 3])\n",
            "60: X_val = data_transformed_3D[:, 250:1004, :], y_val = get_y_class(data_transformed_3D[:, 1005, 3])\n",
            "61: X_val = data_transformed_3D[:, 251:1005, :], y_val = get_y_class(data_transformed_3D[:, 1006, 3])\n",
            "62: X_val = data_transformed_3D[:, 252:1006, :], y_val = get_y_class(data_transformed_3D[:, 1007, 3])\n",
            "63: X_val = data_transformed_3D[:, 253:1007, :], y_val = get_y_class(data_transformed_3D[:, 1008, 3])\n",
            "\n",
            "Данные для прогнозов по модели 5\n",
            "1: X_val = data_transformed_3D[:, 254:1008, :], y_val = get_y_class(data_transformed_3D[:, 1009, 3])\n",
            "2: X_val = data_transformed_3D[:, 255:1009, :], y_val = get_y_class(data_transformed_3D[:, 1010, 3])\n",
            "3: X_val = data_transformed_3D[:, 256:1010, :], y_val = get_y_class(data_transformed_3D[:, 1011, 3])\n",
            "4: X_val = data_transformed_3D[:, 257:1011, :], y_val = get_y_class(data_transformed_3D[:, 1012, 3])\n",
            "5: X_val = data_transformed_3D[:, 258:1012, :], y_val = get_y_class(data_transformed_3D[:, 1013, 3])\n",
            "6: X_val = data_transformed_3D[:, 259:1013, :], y_val = get_y_class(data_transformed_3D[:, 1014, 3])\n",
            "7: X_val = data_transformed_3D[:, 260:1014, :], y_val = get_y_class(data_transformed_3D[:, 1015, 3])\n",
            "8: X_val = data_transformed_3D[:, 261:1015, :], y_val = get_y_class(data_transformed_3D[:, 1016, 3])\n",
            "9: X_val = data_transformed_3D[:, 262:1016, :], y_val = get_y_class(data_transformed_3D[:, 1017, 3])\n",
            "10: X_val = data_transformed_3D[:, 263:1017, :], y_val = get_y_class(data_transformed_3D[:, 1018, 3])\n",
            "11: X_val = data_transformed_3D[:, 264:1018, :], y_val = get_y_class(data_transformed_3D[:, 1019, 3])\n",
            "12: X_val = data_transformed_3D[:, 265:1019, :], y_val = get_y_class(data_transformed_3D[:, 1020, 3])\n",
            "13: X_val = data_transformed_3D[:, 266:1020, :], y_val = get_y_class(data_transformed_3D[:, 1021, 3])\n",
            "14: X_val = data_transformed_3D[:, 267:1021, :], y_val = get_y_class(data_transformed_3D[:, 1022, 3])\n",
            "15: X_val = data_transformed_3D[:, 268:1022, :], y_val = get_y_class(data_transformed_3D[:, 1023, 3])\n",
            "16: X_val = data_transformed_3D[:, 269:1023, :], y_val = get_y_class(data_transformed_3D[:, 1024, 3])\n",
            "17: X_val = data_transformed_3D[:, 270:1024, :], y_val = get_y_class(data_transformed_3D[:, 1025, 3])\n",
            "18: X_val = data_transformed_3D[:, 271:1025, :], y_val = get_y_class(data_transformed_3D[:, 1026, 3])\n",
            "19: X_val = data_transformed_3D[:, 272:1026, :], y_val = get_y_class(data_transformed_3D[:, 1027, 3])\n",
            "20: X_val = data_transformed_3D[:, 273:1027, :], y_val = get_y_class(data_transformed_3D[:, 1028, 3])\n",
            "21: X_val = data_transformed_3D[:, 274:1028, :], y_val = get_y_class(data_transformed_3D[:, 1029, 3])\n",
            "22: X_val = data_transformed_3D[:, 275:1029, :], y_val = get_y_class(data_transformed_3D[:, 1030, 3])\n",
            "23: X_val = data_transformed_3D[:, 276:1030, :], y_val = get_y_class(data_transformed_3D[:, 1031, 3])\n",
            "24: X_val = data_transformed_3D[:, 277:1031, :], y_val = get_y_class(data_transformed_3D[:, 1032, 3])\n",
            "25: X_val = data_transformed_3D[:, 278:1032, :], y_val = get_y_class(data_transformed_3D[:, 1033, 3])\n",
            "26: X_val = data_transformed_3D[:, 279:1033, :], y_val = get_y_class(data_transformed_3D[:, 1034, 3])\n",
            "27: X_val = data_transformed_3D[:, 280:1034, :], y_val = get_y_class(data_transformed_3D[:, 1035, 3])\n",
            "28: X_val = data_transformed_3D[:, 281:1035, :], y_val = get_y_class(data_transformed_3D[:, 1036, 3])\n",
            "29: X_val = data_transformed_3D[:, 282:1036, :], y_val = get_y_class(data_transformed_3D[:, 1037, 3])\n",
            "30: X_val = data_transformed_3D[:, 283:1037, :], y_val = get_y_class(data_transformed_3D[:, 1038, 3])\n",
            "31: X_val = data_transformed_3D[:, 284:1038, :], y_val = get_y_class(data_transformed_3D[:, 1039, 3])\n",
            "32: X_val = data_transformed_3D[:, 285:1039, :], y_val = get_y_class(data_transformed_3D[:, 1040, 3])\n",
            "33: X_val = data_transformed_3D[:, 286:1040, :], y_val = get_y_class(data_transformed_3D[:, 1041, 3])\n",
            "34: X_val = data_transformed_3D[:, 287:1041, :], y_val = get_y_class(data_transformed_3D[:, 1042, 3])\n",
            "35: X_val = data_transformed_3D[:, 288:1042, :], y_val = get_y_class(data_transformed_3D[:, 1043, 3])\n",
            "36: X_val = data_transformed_3D[:, 289:1043, :], y_val = get_y_class(data_transformed_3D[:, 1044, 3])\n",
            "37: X_val = data_transformed_3D[:, 290:1044, :], y_val = get_y_class(data_transformed_3D[:, 1045, 3])\n",
            "38: X_val = data_transformed_3D[:, 291:1045, :], y_val = get_y_class(data_transformed_3D[:, 1046, 3])\n",
            "39: X_val = data_transformed_3D[:, 292:1046, :], y_val = get_y_class(data_transformed_3D[:, 1047, 3])\n",
            "40: X_val = data_transformed_3D[:, 293:1047, :], y_val = get_y_class(data_transformed_3D[:, 1048, 3])\n",
            "41: X_val = data_transformed_3D[:, 294:1048, :], y_val = get_y_class(data_transformed_3D[:, 1049, 3])\n",
            "42: X_val = data_transformed_3D[:, 295:1049, :], y_val = get_y_class(data_transformed_3D[:, 1050, 3])\n",
            "43: X_val = data_transformed_3D[:, 296:1050, :], y_val = get_y_class(data_transformed_3D[:, 1051, 3])\n",
            "44: X_val = data_transformed_3D[:, 297:1051, :], y_val = get_y_class(data_transformed_3D[:, 1052, 3])\n",
            "45: X_val = data_transformed_3D[:, 298:1052, :], y_val = get_y_class(data_transformed_3D[:, 1053, 3])\n",
            "46: X_val = data_transformed_3D[:, 299:1053, :], y_val = get_y_class(data_transformed_3D[:, 1054, 3])\n",
            "47: X_val = data_transformed_3D[:, 300:1054, :], y_val = get_y_class(data_transformed_3D[:, 1055, 3])\n",
            "48: X_val = data_transformed_3D[:, 301:1055, :], y_val = get_y_class(data_transformed_3D[:, 1056, 3])\n",
            "49: X_val = data_transformed_3D[:, 302:1056, :], y_val = get_y_class(data_transformed_3D[:, 1057, 3])\n",
            "50: X_val = data_transformed_3D[:, 303:1057, :], y_val = get_y_class(data_transformed_3D[:, 1058, 3])\n",
            "51: X_val = data_transformed_3D[:, 304:1058, :], y_val = get_y_class(data_transformed_3D[:, 1059, 3])\n",
            "52: X_val = data_transformed_3D[:, 305:1059, :], y_val = get_y_class(data_transformed_3D[:, 1060, 3])\n",
            "53: X_val = data_transformed_3D[:, 306:1060, :], y_val = get_y_class(data_transformed_3D[:, 1061, 3])\n",
            "54: X_val = data_transformed_3D[:, 307:1061, :], y_val = get_y_class(data_transformed_3D[:, 1062, 3])\n",
            "55: X_val = data_transformed_3D[:, 308:1062, :], y_val = get_y_class(data_transformed_3D[:, 1063, 3])\n",
            "56: X_val = data_transformed_3D[:, 309:1063, :], y_val = get_y_class(data_transformed_3D[:, 1064, 3])\n",
            "57: X_val = data_transformed_3D[:, 310:1064, :], y_val = get_y_class(data_transformed_3D[:, 1065, 3])\n",
            "58: X_val = data_transformed_3D[:, 311:1065, :], y_val = get_y_class(data_transformed_3D[:, 1066, 3])\n",
            "59: X_val = data_transformed_3D[:, 312:1066, :], y_val = get_y_class(data_transformed_3D[:, 1067, 3])\n",
            "60: X_val = data_transformed_3D[:, 313:1067, :], y_val = get_y_class(data_transformed_3D[:, 1068, 3])\n",
            "61: X_val = data_transformed_3D[:, 314:1068, :], y_val = get_y_class(data_transformed_3D[:, 1069, 3])\n",
            "62: X_val = data_transformed_3D[:, 315:1069, :], y_val = get_y_class(data_transformed_3D[:, 1070, 3])\n",
            "63: X_val = data_transformed_3D[:, 316:1070, :], y_val = get_y_class(data_transformed_3D[:, 1071, 3])\n",
            "\n",
            "Данные для прогнозов по модели 6\n",
            "1: X_val = data_transformed_3D[:, 317:1071, :], y_val = get_y_class(data_transformed_3D[:, 1072, 3])\n",
            "2: X_val = data_transformed_3D[:, 318:1072, :], y_val = get_y_class(data_transformed_3D[:, 1073, 3])\n",
            "3: X_val = data_transformed_3D[:, 319:1073, :], y_val = get_y_class(data_transformed_3D[:, 1074, 3])\n",
            "4: X_val = data_transformed_3D[:, 320:1074, :], y_val = get_y_class(data_transformed_3D[:, 1075, 3])\n",
            "5: X_val = data_transformed_3D[:, 321:1075, :], y_val = get_y_class(data_transformed_3D[:, 1076, 3])\n",
            "6: X_val = data_transformed_3D[:, 322:1076, :], y_val = get_y_class(data_transformed_3D[:, 1077, 3])\n",
            "7: X_val = data_transformed_3D[:, 323:1077, :], y_val = get_y_class(data_transformed_3D[:, 1078, 3])\n",
            "8: X_val = data_transformed_3D[:, 324:1078, :], y_val = get_y_class(data_transformed_3D[:, 1079, 3])\n",
            "9: X_val = data_transformed_3D[:, 325:1079, :], y_val = get_y_class(data_transformed_3D[:, 1080, 3])\n",
            "10: X_val = data_transformed_3D[:, 326:1080, :], y_val = get_y_class(data_transformed_3D[:, 1081, 3])\n",
            "11: X_val = data_transformed_3D[:, 327:1081, :], y_val = get_y_class(data_transformed_3D[:, 1082, 3])\n",
            "12: X_val = data_transformed_3D[:, 328:1082, :], y_val = get_y_class(data_transformed_3D[:, 1083, 3])\n",
            "13: X_val = data_transformed_3D[:, 329:1083, :], y_val = get_y_class(data_transformed_3D[:, 1084, 3])\n",
            "14: X_val = data_transformed_3D[:, 330:1084, :], y_val = get_y_class(data_transformed_3D[:, 1085, 3])\n",
            "15: X_val = data_transformed_3D[:, 331:1085, :], y_val = get_y_class(data_transformed_3D[:, 1086, 3])\n",
            "16: X_val = data_transformed_3D[:, 332:1086, :], y_val = get_y_class(data_transformed_3D[:, 1087, 3])\n",
            "17: X_val = data_transformed_3D[:, 333:1087, :], y_val = get_y_class(data_transformed_3D[:, 1088, 3])\n",
            "18: X_val = data_transformed_3D[:, 334:1088, :], y_val = get_y_class(data_transformed_3D[:, 1089, 3])\n",
            "19: X_val = data_transformed_3D[:, 335:1089, :], y_val = get_y_class(data_transformed_3D[:, 1090, 3])\n",
            "20: X_val = data_transformed_3D[:, 336:1090, :], y_val = get_y_class(data_transformed_3D[:, 1091, 3])\n",
            "21: X_val = data_transformed_3D[:, 337:1091, :], y_val = get_y_class(data_transformed_3D[:, 1092, 3])\n",
            "22: X_val = data_transformed_3D[:, 338:1092, :], y_val = get_y_class(data_transformed_3D[:, 1093, 3])\n",
            "23: X_val = data_transformed_3D[:, 339:1093, :], y_val = get_y_class(data_transformed_3D[:, 1094, 3])\n",
            "24: X_val = data_transformed_3D[:, 340:1094, :], y_val = get_y_class(data_transformed_3D[:, 1095, 3])\n",
            "25: X_val = data_transformed_3D[:, 341:1095, :], y_val = get_y_class(data_transformed_3D[:, 1096, 3])\n",
            "26: X_val = data_transformed_3D[:, 342:1096, :], y_val = get_y_class(data_transformed_3D[:, 1097, 3])\n",
            "27: X_val = data_transformed_3D[:, 343:1097, :], y_val = get_y_class(data_transformed_3D[:, 1098, 3])\n",
            "28: X_val = data_transformed_3D[:, 344:1098, :], y_val = get_y_class(data_transformed_3D[:, 1099, 3])\n",
            "29: X_val = data_transformed_3D[:, 345:1099, :], y_val = get_y_class(data_transformed_3D[:, 1100, 3])\n",
            "30: X_val = data_transformed_3D[:, 346:1100, :], y_val = get_y_class(data_transformed_3D[:, 1101, 3])\n",
            "31: X_val = data_transformed_3D[:, 347:1101, :], y_val = get_y_class(data_transformed_3D[:, 1102, 3])\n",
            "32: X_val = data_transformed_3D[:, 348:1102, :], y_val = get_y_class(data_transformed_3D[:, 1103, 3])\n",
            "33: X_val = data_transformed_3D[:, 349:1103, :], y_val = get_y_class(data_transformed_3D[:, 1104, 3])\n",
            "34: X_val = data_transformed_3D[:, 350:1104, :], y_val = get_y_class(data_transformed_3D[:, 1105, 3])\n",
            "35: X_val = data_transformed_3D[:, 351:1105, :], y_val = get_y_class(data_transformed_3D[:, 1106, 3])\n",
            "36: X_val = data_transformed_3D[:, 352:1106, :], y_val = get_y_class(data_transformed_3D[:, 1107, 3])\n",
            "37: X_val = data_transformed_3D[:, 353:1107, :], y_val = get_y_class(data_transformed_3D[:, 1108, 3])\n",
            "38: X_val = data_transformed_3D[:, 354:1108, :], y_val = get_y_class(data_transformed_3D[:, 1109, 3])\n",
            "39: X_val = data_transformed_3D[:, 355:1109, :], y_val = get_y_class(data_transformed_3D[:, 1110, 3])\n",
            "40: X_val = data_transformed_3D[:, 356:1110, :], y_val = get_y_class(data_transformed_3D[:, 1111, 3])\n",
            "41: X_val = data_transformed_3D[:, 357:1111, :], y_val = get_y_class(data_transformed_3D[:, 1112, 3])\n",
            "42: X_val = data_transformed_3D[:, 358:1112, :], y_val = get_y_class(data_transformed_3D[:, 1113, 3])\n",
            "43: X_val = data_transformed_3D[:, 359:1113, :], y_val = get_y_class(data_transformed_3D[:, 1114, 3])\n",
            "44: X_val = data_transformed_3D[:, 360:1114, :], y_val = get_y_class(data_transformed_3D[:, 1115, 3])\n",
            "45: X_val = data_transformed_3D[:, 361:1115, :], y_val = get_y_class(data_transformed_3D[:, 1116, 3])\n",
            "46: X_val = data_transformed_3D[:, 362:1116, :], y_val = get_y_class(data_transformed_3D[:, 1117, 3])\n",
            "47: X_val = data_transformed_3D[:, 363:1117, :], y_val = get_y_class(data_transformed_3D[:, 1118, 3])\n",
            "48: X_val = data_transformed_3D[:, 364:1118, :], y_val = get_y_class(data_transformed_3D[:, 1119, 3])\n",
            "49: X_val = data_transformed_3D[:, 365:1119, :], y_val = get_y_class(data_transformed_3D[:, 1120, 3])\n",
            "50: X_val = data_transformed_3D[:, 366:1120, :], y_val = get_y_class(data_transformed_3D[:, 1121, 3])\n",
            "51: X_val = data_transformed_3D[:, 367:1121, :], y_val = get_y_class(data_transformed_3D[:, 1122, 3])\n",
            "52: X_val = data_transformed_3D[:, 368:1122, :], y_val = get_y_class(data_transformed_3D[:, 1123, 3])\n",
            "53: X_val = data_transformed_3D[:, 369:1123, :], y_val = get_y_class(data_transformed_3D[:, 1124, 3])\n",
            "54: X_val = data_transformed_3D[:, 370:1124, :], y_val = get_y_class(data_transformed_3D[:, 1125, 3])\n",
            "55: X_val = data_transformed_3D[:, 371:1125, :], y_val = get_y_class(data_transformed_3D[:, 1126, 3])\n",
            "56: X_val = data_transformed_3D[:, 372:1126, :], y_val = get_y_class(data_transformed_3D[:, 1127, 3])\n",
            "57: X_val = data_transformed_3D[:, 373:1127, :], y_val = get_y_class(data_transformed_3D[:, 1128, 3])\n",
            "58: X_val = data_transformed_3D[:, 374:1128, :], y_val = get_y_class(data_transformed_3D[:, 1129, 3])\n",
            "59: X_val = data_transformed_3D[:, 375:1129, :], y_val = get_y_class(data_transformed_3D[:, 1130, 3])\n",
            "60: X_val = data_transformed_3D[:, 376:1130, :], y_val = get_y_class(data_transformed_3D[:, 1131, 3])\n",
            "61: X_val = data_transformed_3D[:, 377:1131, :], y_val = get_y_class(data_transformed_3D[:, 1132, 3])\n",
            "62: X_val = data_transformed_3D[:, 378:1132, :], y_val = get_y_class(data_transformed_3D[:, 1133, 3])\n",
            "63: X_val = data_transformed_3D[:, 379:1133, :], y_val = get_y_class(data_transformed_3D[:, 1134, 3])\n",
            "\n",
            "Данные для прогнозов по модели 7\n",
            "1: X_val = data_transformed_3D[:, 380:1134, :], y_val = get_y_class(data_transformed_3D[:, 1135, 3])\n",
            "2: X_val = data_transformed_3D[:, 381:1135, :], y_val = get_y_class(data_transformed_3D[:, 1136, 3])\n",
            "3: X_val = data_transformed_3D[:, 382:1136, :], y_val = get_y_class(data_transformed_3D[:, 1137, 3])\n",
            "4: X_val = data_transformed_3D[:, 383:1137, :], y_val = get_y_class(data_transformed_3D[:, 1138, 3])\n",
            "5: X_val = data_transformed_3D[:, 384:1138, :], y_val = get_y_class(data_transformed_3D[:, 1139, 3])\n",
            "6: X_val = data_transformed_3D[:, 385:1139, :], y_val = get_y_class(data_transformed_3D[:, 1140, 3])\n",
            "7: X_val = data_transformed_3D[:, 386:1140, :], y_val = get_y_class(data_transformed_3D[:, 1141, 3])\n",
            "8: X_val = data_transformed_3D[:, 387:1141, :], y_val = get_y_class(data_transformed_3D[:, 1142, 3])\n",
            "9: X_val = data_transformed_3D[:, 388:1142, :], y_val = get_y_class(data_transformed_3D[:, 1143, 3])\n",
            "10: X_val = data_transformed_3D[:, 389:1143, :], y_val = get_y_class(data_transformed_3D[:, 1144, 3])\n",
            "11: X_val = data_transformed_3D[:, 390:1144, :], y_val = get_y_class(data_transformed_3D[:, 1145, 3])\n",
            "12: X_val = data_transformed_3D[:, 391:1145, :], y_val = get_y_class(data_transformed_3D[:, 1146, 3])\n",
            "13: X_val = data_transformed_3D[:, 392:1146, :], y_val = get_y_class(data_transformed_3D[:, 1147, 3])\n",
            "14: X_val = data_transformed_3D[:, 393:1147, :], y_val = get_y_class(data_transformed_3D[:, 1148, 3])\n",
            "15: X_val = data_transformed_3D[:, 394:1148, :], y_val = get_y_class(data_transformed_3D[:, 1149, 3])\n",
            "16: X_val = data_transformed_3D[:, 395:1149, :], y_val = get_y_class(data_transformed_3D[:, 1150, 3])\n",
            "17: X_val = data_transformed_3D[:, 396:1150, :], y_val = get_y_class(data_transformed_3D[:, 1151, 3])\n",
            "18: X_val = data_transformed_3D[:, 397:1151, :], y_val = get_y_class(data_transformed_3D[:, 1152, 3])\n",
            "19: X_val = data_transformed_3D[:, 398:1152, :], y_val = get_y_class(data_transformed_3D[:, 1153, 3])\n",
            "20: X_val = data_transformed_3D[:, 399:1153, :], y_val = get_y_class(data_transformed_3D[:, 1154, 3])\n",
            "21: X_val = data_transformed_3D[:, 400:1154, :], y_val = get_y_class(data_transformed_3D[:, 1155, 3])\n",
            "22: X_val = data_transformed_3D[:, 401:1155, :], y_val = get_y_class(data_transformed_3D[:, 1156, 3])\n",
            "23: X_val = data_transformed_3D[:, 402:1156, :], y_val = get_y_class(data_transformed_3D[:, 1157, 3])\n",
            "24: X_val = data_transformed_3D[:, 403:1157, :], y_val = get_y_class(data_transformed_3D[:, 1158, 3])\n",
            "25: X_val = data_transformed_3D[:, 404:1158, :], y_val = get_y_class(data_transformed_3D[:, 1159, 3])\n",
            "26: X_val = data_transformed_3D[:, 405:1159, :], y_val = get_y_class(data_transformed_3D[:, 1160, 3])\n",
            "27: X_val = data_transformed_3D[:, 406:1160, :], y_val = get_y_class(data_transformed_3D[:, 1161, 3])\n",
            "28: X_val = data_transformed_3D[:, 407:1161, :], y_val = get_y_class(data_transformed_3D[:, 1162, 3])\n",
            "29: X_val = data_transformed_3D[:, 408:1162, :], y_val = get_y_class(data_transformed_3D[:, 1163, 3])\n",
            "30: X_val = data_transformed_3D[:, 409:1163, :], y_val = get_y_class(data_transformed_3D[:, 1164, 3])\n",
            "31: X_val = data_transformed_3D[:, 410:1164, :], y_val = get_y_class(data_transformed_3D[:, 1165, 3])\n",
            "32: X_val = data_transformed_3D[:, 411:1165, :], y_val = get_y_class(data_transformed_3D[:, 1166, 3])\n",
            "33: X_val = data_transformed_3D[:, 412:1166, :], y_val = get_y_class(data_transformed_3D[:, 1167, 3])\n",
            "34: X_val = data_transformed_3D[:, 413:1167, :], y_val = get_y_class(data_transformed_3D[:, 1168, 3])\n",
            "35: X_val = data_transformed_3D[:, 414:1168, :], y_val = get_y_class(data_transformed_3D[:, 1169, 3])\n",
            "36: X_val = data_transformed_3D[:, 415:1169, :], y_val = get_y_class(data_transformed_3D[:, 1170, 3])\n",
            "37: X_val = data_transformed_3D[:, 416:1170, :], y_val = get_y_class(data_transformed_3D[:, 1171, 3])\n",
            "38: X_val = data_transformed_3D[:, 417:1171, :], y_val = get_y_class(data_transformed_3D[:, 1172, 3])\n",
            "39: X_val = data_transformed_3D[:, 418:1172, :], y_val = get_y_class(data_transformed_3D[:, 1173, 3])\n",
            "40: X_val = data_transformed_3D[:, 419:1173, :], y_val = get_y_class(data_transformed_3D[:, 1174, 3])\n",
            "41: X_val = data_transformed_3D[:, 420:1174, :], y_val = get_y_class(data_transformed_3D[:, 1175, 3])\n",
            "42: X_val = data_transformed_3D[:, 421:1175, :], y_val = get_y_class(data_transformed_3D[:, 1176, 3])\n",
            "43: X_val = data_transformed_3D[:, 422:1176, :], y_val = get_y_class(data_transformed_3D[:, 1177, 3])\n",
            "44: X_val = data_transformed_3D[:, 423:1177, :], y_val = get_y_class(data_transformed_3D[:, 1178, 3])\n",
            "45: X_val = data_transformed_3D[:, 424:1178, :], y_val = get_y_class(data_transformed_3D[:, 1179, 3])\n",
            "46: X_val = data_transformed_3D[:, 425:1179, :], y_val = get_y_class(data_transformed_3D[:, 1180, 3])\n",
            "47: X_val = data_transformed_3D[:, 426:1180, :], y_val = get_y_class(data_transformed_3D[:, 1181, 3])\n",
            "48: X_val = data_transformed_3D[:, 427:1181, :], y_val = get_y_class(data_transformed_3D[:, 1182, 3])\n",
            "49: X_val = data_transformed_3D[:, 428:1182, :], y_val = get_y_class(data_transformed_3D[:, 1183, 3])\n",
            "50: X_val = data_transformed_3D[:, 429:1183, :], y_val = get_y_class(data_transformed_3D[:, 1184, 3])\n",
            "51: X_val = data_transformed_3D[:, 430:1184, :], y_val = get_y_class(data_transformed_3D[:, 1185, 3])\n",
            "52: X_val = data_transformed_3D[:, 431:1185, :], y_val = get_y_class(data_transformed_3D[:, 1186, 3])\n",
            "53: X_val = data_transformed_3D[:, 432:1186, :], y_val = get_y_class(data_transformed_3D[:, 1187, 3])\n",
            "54: X_val = data_transformed_3D[:, 433:1187, :], y_val = get_y_class(data_transformed_3D[:, 1188, 3])\n",
            "55: X_val = data_transformed_3D[:, 434:1188, :], y_val = get_y_class(data_transformed_3D[:, 1189, 3])\n",
            "56: X_val = data_transformed_3D[:, 435:1189, :], y_val = get_y_class(data_transformed_3D[:, 1190, 3])\n",
            "57: X_val = data_transformed_3D[:, 436:1190, :], y_val = get_y_class(data_transformed_3D[:, 1191, 3])\n",
            "58: X_val = data_transformed_3D[:, 437:1191, :], y_val = get_y_class(data_transformed_3D[:, 1192, 3])\n",
            "59: X_val = data_transformed_3D[:, 438:1192, :], y_val = get_y_class(data_transformed_3D[:, 1193, 3])\n",
            "60: X_val = data_transformed_3D[:, 439:1193, :], y_val = get_y_class(data_transformed_3D[:, 1194, 3])\n",
            "61: X_val = data_transformed_3D[:, 440:1194, :], y_val = get_y_class(data_transformed_3D[:, 1195, 3])\n",
            "62: X_val = data_transformed_3D[:, 441:1195, :], y_val = get_y_class(data_transformed_3D[:, 1196, 3])\n",
            "63: X_val = data_transformed_3D[:, 442:1196, :], y_val = get_y_class(data_transformed_3D[:, 1197, 3])\n",
            "\n",
            "Данные для прогнозов по модели 8\n",
            "1: X_val = data_transformed_3D[:, 443:1197, :], y_val = get_y_class(data_transformed_3D[:, 1198, 3])\n",
            "2: X_val = data_transformed_3D[:, 444:1198, :], y_val = get_y_class(data_transformed_3D[:, 1199, 3])\n",
            "3: X_val = data_transformed_3D[:, 445:1199, :], y_val = get_y_class(data_transformed_3D[:, 1200, 3])\n",
            "4: X_val = data_transformed_3D[:, 446:1200, :], y_val = get_y_class(data_transformed_3D[:, 1201, 3])\n",
            "5: X_val = data_transformed_3D[:, 447:1201, :], y_val = get_y_class(data_transformed_3D[:, 1202, 3])\n",
            "6: X_val = data_transformed_3D[:, 448:1202, :], y_val = get_y_class(data_transformed_3D[:, 1203, 3])\n",
            "7: X_val = data_transformed_3D[:, 449:1203, :], y_val = get_y_class(data_transformed_3D[:, 1204, 3])\n",
            "8: X_val = data_transformed_3D[:, 450:1204, :], y_val = get_y_class(data_transformed_3D[:, 1205, 3])\n",
            "9: X_val = data_transformed_3D[:, 451:1205, :], y_val = get_y_class(data_transformed_3D[:, 1206, 3])\n",
            "10: X_val = data_transformed_3D[:, 452:1206, :], y_val = get_y_class(data_transformed_3D[:, 1207, 3])\n",
            "11: X_val = data_transformed_3D[:, 453:1207, :], y_val = get_y_class(data_transformed_3D[:, 1208, 3])\n",
            "12: X_val = data_transformed_3D[:, 454:1208, :], y_val = get_y_class(data_transformed_3D[:, 1209, 3])\n",
            "13: X_val = data_transformed_3D[:, 455:1209, :], y_val = get_y_class(data_transformed_3D[:, 1210, 3])\n",
            "14: X_val = data_transformed_3D[:, 456:1210, :], y_val = get_y_class(data_transformed_3D[:, 1211, 3])\n",
            "15: X_val = data_transformed_3D[:, 457:1211, :], y_val = get_y_class(data_transformed_3D[:, 1212, 3])\n",
            "16: X_val = data_transformed_3D[:, 458:1212, :], y_val = get_y_class(data_transformed_3D[:, 1213, 3])\n",
            "17: X_val = data_transformed_3D[:, 459:1213, :], y_val = get_y_class(data_transformed_3D[:, 1214, 3])\n",
            "18: X_val = data_transformed_3D[:, 460:1214, :], y_val = get_y_class(data_transformed_3D[:, 1215, 3])\n",
            "19: X_val = data_transformed_3D[:, 461:1215, :], y_val = get_y_class(data_transformed_3D[:, 1216, 3])\n",
            "20: X_val = data_transformed_3D[:, 462:1216, :], y_val = get_y_class(data_transformed_3D[:, 1217, 3])\n",
            "21: X_val = data_transformed_3D[:, 463:1217, :], y_val = get_y_class(data_transformed_3D[:, 1218, 3])\n",
            "22: X_val = data_transformed_3D[:, 464:1218, :], y_val = get_y_class(data_transformed_3D[:, 1219, 3])\n",
            "23: X_val = data_transformed_3D[:, 465:1219, :], y_val = get_y_class(data_transformed_3D[:, 1220, 3])\n",
            "24: X_val = data_transformed_3D[:, 466:1220, :], y_val = get_y_class(data_transformed_3D[:, 1221, 3])\n",
            "25: X_val = data_transformed_3D[:, 467:1221, :], y_val = get_y_class(data_transformed_3D[:, 1222, 3])\n",
            "26: X_val = data_transformed_3D[:, 468:1222, :], y_val = get_y_class(data_transformed_3D[:, 1223, 3])\n",
            "27: X_val = data_transformed_3D[:, 469:1223, :], y_val = get_y_class(data_transformed_3D[:, 1224, 3])\n",
            "28: X_val = data_transformed_3D[:, 470:1224, :], y_val = get_y_class(data_transformed_3D[:, 1225, 3])\n",
            "29: X_val = data_transformed_3D[:, 471:1225, :], y_val = get_y_class(data_transformed_3D[:, 1226, 3])\n",
            "30: X_val = data_transformed_3D[:, 472:1226, :], y_val = get_y_class(data_transformed_3D[:, 1227, 3])\n",
            "31: X_val = data_transformed_3D[:, 473:1227, :], y_val = get_y_class(data_transformed_3D[:, 1228, 3])\n",
            "32: X_val = data_transformed_3D[:, 474:1228, :], y_val = get_y_class(data_transformed_3D[:, 1229, 3])\n",
            "33: X_val = data_transformed_3D[:, 475:1229, :], y_val = get_y_class(data_transformed_3D[:, 1230, 3])\n",
            "34: X_val = data_transformed_3D[:, 476:1230, :], y_val = get_y_class(data_transformed_3D[:, 1231, 3])\n",
            "35: X_val = data_transformed_3D[:, 477:1231, :], y_val = get_y_class(data_transformed_3D[:, 1232, 3])\n",
            "36: X_val = data_transformed_3D[:, 478:1232, :], y_val = get_y_class(data_transformed_3D[:, 1233, 3])\n",
            "37: X_val = data_transformed_3D[:, 479:1233, :], y_val = get_y_class(data_transformed_3D[:, 1234, 3])\n",
            "38: X_val = data_transformed_3D[:, 480:1234, :], y_val = get_y_class(data_transformed_3D[:, 1235, 3])\n",
            "39: X_val = data_transformed_3D[:, 481:1235, :], y_val = get_y_class(data_transformed_3D[:, 1236, 3])\n",
            "40: X_val = data_transformed_3D[:, 482:1236, :], y_val = get_y_class(data_transformed_3D[:, 1237, 3])\n",
            "41: X_val = data_transformed_3D[:, 483:1237, :], y_val = get_y_class(data_transformed_3D[:, 1238, 3])\n",
            "42: X_val = data_transformed_3D[:, 484:1238, :], y_val = get_y_class(data_transformed_3D[:, 1239, 3])\n",
            "43: X_val = data_transformed_3D[:, 485:1239, :], y_val = get_y_class(data_transformed_3D[:, 1240, 3])\n",
            "44: X_val = data_transformed_3D[:, 486:1240, :], y_val = get_y_class(data_transformed_3D[:, 1241, 3])\n",
            "45: X_val = data_transformed_3D[:, 487:1241, :], y_val = get_y_class(data_transformed_3D[:, 1242, 3])\n",
            "46: X_val = data_transformed_3D[:, 488:1242, :], y_val = get_y_class(data_transformed_3D[:, 1243, 3])\n",
            "47: X_val = data_transformed_3D[:, 489:1243, :], y_val = get_y_class(data_transformed_3D[:, 1244, 3])\n",
            "48: X_val = data_transformed_3D[:, 490:1244, :], y_val = get_y_class(data_transformed_3D[:, 1245, 3])\n",
            "49: X_val = data_transformed_3D[:, 491:1245, :], y_val = get_y_class(data_transformed_3D[:, 1246, 3])\n",
            "50: X_val = data_transformed_3D[:, 492:1246, :], y_val = get_y_class(data_transformed_3D[:, 1247, 3])\n",
            "51: X_val = data_transformed_3D[:, 493:1247, :], y_val = get_y_class(data_transformed_3D[:, 1248, 3])\n",
            "52: X_val = data_transformed_3D[:, 494:1248, :], y_val = get_y_class(data_transformed_3D[:, 1249, 3])\n",
            "53: X_val = data_transformed_3D[:, 495:1249, :], y_val = get_y_class(data_transformed_3D[:, 1250, 3])\n",
            "54: X_val = data_transformed_3D[:, 496:1250, :], y_val = get_y_class(data_transformed_3D[:, 1251, 3])\n",
            "55: X_val = data_transformed_3D[:, 497:1251, :], y_val = get_y_class(data_transformed_3D[:, 1252, 3])\n",
            "56: X_val = data_transformed_3D[:, 498:1252, :], y_val = get_y_class(data_transformed_3D[:, 1253, 3])\n",
            "57: X_val = data_transformed_3D[:, 499:1253, :], y_val = get_y_class(data_transformed_3D[:, 1254, 3])\n",
            "58: X_val = data_transformed_3D[:, 500:1254, :], y_val = get_y_class(data_transformed_3D[:, 1255, 3])\n",
            "59: X_val = data_transformed_3D[:, 501:1255, :], y_val = get_y_class(data_transformed_3D[:, 1256, 3])\n",
            "60: X_val = data_transformed_3D[:, 502:1256, :], y_val = get_y_class(data_transformed_3D[:, 1257, 3])\n",
            "61: X_val = data_transformed_3D[:, 503:1257, :], y_val = get_y_class(data_transformed_3D[:, 1258, 3])\n",
            "62: X_val = data_transformed_3D[:, 504:1258, :], y_val = get_y_class(data_transformed_3D[:, 1259, 3])\n",
            "63: X_val = data_transformed_3D[:, 505:1259, :], y_val = get_y_class(data_transformed_3D[:, 1260, 3])\n",
            "\n",
            "Out of sample:\n",
            "1: X_val = data_transformed_3D[:, 506:1260, :], y_val = get_y_class(data_transformed_3D[:, 1261, 3])\n",
            "2: X_val = data_transformed_3D[:, 507:1261, :], y_val = get_y_class(data_transformed_3D[:, 1262, 3])\n",
            "3: X_val = data_transformed_3D[:, 508:1262, :], y_val = get_y_class(data_transformed_3D[:, 1263, 3])\n",
            "4: X_val = data_transformed_3D[:, 509:1263, :], y_val = get_y_class(data_transformed_3D[:, 1264, 3])\n",
            "5: X_val = data_transformed_3D[:, 510:1264, :], y_val = get_y_class(data_transformed_3D[:, 1265, 3])\n",
            "6: X_val = data_transformed_3D[:, 511:1265, :], y_val = get_y_class(data_transformed_3D[:, 1266, 3])\n",
            "7: X_val = data_transformed_3D[:, 512:1266, :], y_val = get_y_class(data_transformed_3D[:, 1267, 3])\n",
            "8: X_val = data_transformed_3D[:, 513:1267, :], y_val = get_y_class(data_transformed_3D[:, 1268, 3])\n",
            "9: X_val = data_transformed_3D[:, 514:1268, :], y_val = get_y_class(data_transformed_3D[:, 1269, 3])\n",
            "10: X_val = data_transformed_3D[:, 515:1269, :], y_val = get_y_class(data_transformed_3D[:, 1270, 3])\n",
            "11: X_val = data_transformed_3D[:, 516:1270, :], y_val = get_y_class(data_transformed_3D[:, 1271, 3])\n",
            "12: X_val = data_transformed_3D[:, 517:1271, :], y_val = get_y_class(data_transformed_3D[:, 1272, 3])\n",
            "13: X_val = data_transformed_3D[:, 518:1272, :], y_val = get_y_class(data_transformed_3D[:, 1273, 3])\n",
            "14: X_val = data_transformed_3D[:, 519:1273, :], y_val = get_y_class(data_transformed_3D[:, 1274, 3])\n",
            "15: X_val = data_transformed_3D[:, 520:1274, :], y_val = get_y_class(data_transformed_3D[:, 1275, 3])\n",
            "16: X_val = data_transformed_3D[:, 521:1275, :], y_val = get_y_class(data_transformed_3D[:, 1276, 3])\n",
            "17: X_val = data_transformed_3D[:, 522:1276, :], y_val = get_y_class(data_transformed_3D[:, 1277, 3])\n",
            "18: X_val = data_transformed_3D[:, 523:1277, :], y_val = get_y_class(data_transformed_3D[:, 1278, 3])\n",
            "19: X_val = data_transformed_3D[:, 524:1278, :], y_val = get_y_class(data_transformed_3D[:, 1279, 3])\n",
            "20: X_val = data_transformed_3D[:, 525:1279, :], y_val = get_y_class(data_transformed_3D[:, 1280, 3])\n",
            "21: X_val = data_transformed_3D[:, 526:1280, :], y_val = get_y_class(data_transformed_3D[:, 1281, 3])\n",
            "22: X_val = data_transformed_3D[:, 527:1281, :], y_val = get_y_class(data_transformed_3D[:, 1282, 3])\n",
            "23: X_val = data_transformed_3D[:, 528:1282, :], y_val = get_y_class(data_transformed_3D[:, 1283, 3])\n",
            "24: X_val = data_transformed_3D[:, 529:1283, :], y_val = get_y_class(data_transformed_3D[:, 1284, 3])\n",
            "25: X_val = data_transformed_3D[:, 530:1284, :], y_val = get_y_class(data_transformed_3D[:, 1285, 3])\n",
            "26: X_val = data_transformed_3D[:, 531:1285, :], y_val = get_y_class(data_transformed_3D[:, 1286, 3])\n",
            "27: X_val = data_transformed_3D[:, 532:1286, :], y_val = get_y_class(data_transformed_3D[:, 1287, 3])\n",
            "28: X_val = data_transformed_3D[:, 533:1287, :], y_val = get_y_class(data_transformed_3D[:, 1288, 3])\n",
            "29: X_val = data_transformed_3D[:, 534:1288, :], y_val = get_y_class(data_transformed_3D[:, 1289, 3])\n",
            "30: X_val = data_transformed_3D[:, 535:1289, :], y_val = get_y_class(data_transformed_3D[:, 1290, 3])\n",
            "31: X_val = data_transformed_3D[:, 536:1290, :], y_val = get_y_class(data_transformed_3D[:, 1291, 3])\n",
            "32: X_val = data_transformed_3D[:, 537:1291, :], y_val = get_y_class(data_transformed_3D[:, 1292, 3])\n",
            "33: X_val = data_transformed_3D[:, 538:1292, :], y_val = get_y_class(data_transformed_3D[:, 1293, 3])\n",
            "34: X_val = data_transformed_3D[:, 539:1293, :], y_val = get_y_class(data_transformed_3D[:, 1294, 3])\n",
            "35: X_val = data_transformed_3D[:, 540:1294, :], y_val = get_y_class(data_transformed_3D[:, 1295, 3])\n",
            "36: X_val = data_transformed_3D[:, 541:1295, :], y_val = get_y_class(data_transformed_3D[:, 1296, 3])\n",
            "37: X_val = data_transformed_3D[:, 542:1296, :], y_val = get_y_class(data_transformed_3D[:, 1297, 3])\n",
            "38: X_val = data_transformed_3D[:, 543:1297, :], y_val = get_y_class(data_transformed_3D[:, 1298, 3])\n",
            "39: X_val = data_transformed_3D[:, 544:1298, :], y_val = get_y_class(data_transformed_3D[:, 1299, 3])\n",
            "40: X_val = data_transformed_3D[:, 545:1299, :], y_val = get_y_class(data_transformed_3D[:, 1300, 3])\n",
            "\n",
            "data_transformed[:, 2:].shape = (485, 1300, 7)\n"
          ],
          "name": "stdout"
        }
      ]
    },
    {
      "cell_type": "markdown",
      "metadata": {
        "id": "kePDN67p5qjq"
      },
      "source": [
        "#### Данные для одного предсказания (из 63) одной модели (из девяти)."
      ]
    },
    {
      "cell_type": "code",
      "metadata": {
        "colab": {
          "base_uri": "https://localhost:8080/"
        },
        "id": "HGjxnrd-yJvg",
        "outputId": "7c58a6b1-a89c-430d-d6ee-ef1daa211c72"
      },
      "source": [
        "model_ind = 2       # из 9\n",
        "prediction_ind = 1  # из 63\n",
        "\n",
        "(X_val, y_val) = val_set_3D[model_ind][prediction_ind]\n",
        "print(f'X_val.shape = {X_val.shape}, y_val.shape = {y_val.shape}')"
      ],
      "execution_count": null,
      "outputs": [
        {
          "output_type": "stream",
          "text": [
            "X_val.shape = (485, 754, 7), y_val.shape = (485,)\n"
          ],
          "name": "stdout"
        }
      ]
    },
    {
      "cell_type": "markdown",
      "metadata": {
        "id": "wLkYjtwKwtf4"
      },
      "source": [
        "### 6. Модель"
      ]
    },
    {
      "cell_type": "code",
      "metadata": {
        "id": "Y9TTY2NVNplg"
      },
      "source": [
        "def build_model():\n",
        "  model = SVC(kernel='poly', gamma='auto', probability=True, random_state=24)\n",
        "\n",
        "  return model"
      ],
      "execution_count": null,
      "outputs": []
    },
    {
      "cell_type": "markdown",
      "metadata": {
        "id": "QXAsNMB1YTlI"
      },
      "source": [
        "### 7. Получение прогнозов за весь период наблюдений"
      ]
    },
    {
      "cell_type": "code",
      "metadata": {
        "id": "T-yovqHkzqS9"
      },
      "source": [
        "n_predictions = data_days - lookback - 2 - 2 + out_of_sample_days \n",
        "n_instruments = len(instruments)\n",
        "n_levels = data_3D.shape[2]\n",
        "\n",
        "predictions_3D = np.full((n_instruments, n_predictions, n_levels), np.nan)"
      ],
      "execution_count": null,
      "outputs": []
    },
    {
      "cell_type": "code",
      "metadata": {
        "id": "n9jyihQ78nBI"
      },
      "source": [
        "def get_level_predictions(level):\n",
        "  predictions = np.full((n_instruments, n_predictions), np.nan)\n",
        "  step_to_use = step\n",
        "  n = 0\n",
        "  for i in range(1, 10):\n",
        "    (X_train_3D, y_train) = train_set_3D[i]\n",
        "    X_train = X_train_3D[:, :, level]\n",
        "    model = build_model()  \n",
        "\n",
        "    model.fit(X_train, y_train)\n",
        "\n",
        "    if i == 9: \n",
        "      step_to_use = out_of_sample_days - 1\n",
        "\n",
        "    for j in range(1, step_to_use + 1):\n",
        "      (X_val_3D, y_val) = val_set_3D[i][j]\n",
        "      X_val =  X_val_3D[:, :, level]   \n",
        "      y_pred = model.predict_proba(X_val)[:, 1].flatten()    \n",
        "      predictions[:, n] = y_pred\n",
        "          \n",
        "      n += 1\n",
        "\n",
        "  return predictions    "
      ],
      "execution_count": null,
      "outputs": []
    },
    {
      "cell_type": "code",
      "metadata": {
        "colab": {
          "base_uri": "https://localhost:8080/"
        },
        "id": "CsfBeZ8XkstL",
        "outputId": "5bad39cb-7dfe-463f-d56b-1119828870b3"
      },
      "source": [
        "y_true_matrix = get_y_class(data_transformed_3D[:, -n_predictions:, 3])\n",
        "y_true_matrix.shape"
      ],
      "execution_count": null,
      "outputs": [
        {
          "output_type": "execute_result",
          "data": {
            "text/plain": [
              "(485, 544)"
            ]
          },
          "metadata": {
            "tags": []
          },
          "execution_count": 23
        }
      ]
    },
    {
      "cell_type": "code",
      "metadata": {
        "id": "B1o9jUuUlxh6"
      },
      "source": [
        "def get_prediction_class(y, cut_off_level):\n",
        "  y_pred = np.zeros(y.shape)\n",
        "  y_pred[y > cut_off_level] = 1\n",
        "\n",
        "  return y_pred\n",
        "\n",
        "\n",
        "def get_accuracy_by_date(predictions, cut_off_level=0.5):\n",
        "  accuracies = []\n",
        "  for i in range(y_true_matrix.shape[1]):\n",
        "    y_true = y_true_matrix[:, i]\n",
        "    y_pred = get_prediction_class(predictions[:, i], cut_off_level)\n",
        "    accuracies.append(accuracy_score(y_true, y_pred))\n",
        "\n",
        "  accuracies = pd.DataFrame([dates[-n_predictions:], accuracies], index=['dates', 'accuracy']).T.set_index('dates')\n",
        "  accuracies.index = accuracies.index.astype(int)\n",
        "\n",
        "  mean = round(accuracies['accuracy'].mean(), 3)\n",
        "  std = round(accuracies['accuracy'].std(), 3)\n",
        "  print(f'accuracy by date = {mean} +- {std}')\n",
        "\n",
        "  return accuracies.sort_values(by=['accuracy'], ascending=False)\n",
        "\n",
        "\n",
        "def get_accuracy_by_instr(predictions, cut_off_level=0.5):\n",
        "  accuracies = []\n",
        "  for i in range(y_true_matrix.shape[0]):\n",
        "    y_true = y_true_matrix[i, :]\n",
        "    y_pred = get_prediction_class(predictions[i, :], cut_off_level)\n",
        "    accuracies.append(accuracy_score(y_true, y_pred))\n",
        "\n",
        "  accuracies = pd.DataFrame([instruments, accuracies], index=['instruments', 'accuracy']).T.set_index('instruments')  \n",
        "\n",
        "  mean = round(accuracies['accuracy'].mean(), 3)\n",
        "  std = round(accuracies['accuracy'].std(), 3)\n",
        "  print(f'accuracy by instrument = {mean} +- {std}')\n",
        "\n",
        "  return accuracies.sort_values(by=['accuracy'], ascending=False)"
      ],
      "execution_count": null,
      "outputs": []
    },
    {
      "cell_type": "markdown",
      "metadata": {
        "id": "8I2MY0perxQ2"
      },
      "source": [
        "#### Уровень 0: 'Open'"
      ]
    },
    {
      "cell_type": "code",
      "metadata": {
        "id": "gWaDbIUXr75E"
      },
      "source": [
        "level = 0\n",
        "\n",
        "predictions = get_level_predictions(level)\n",
        "predictions_3D[:, :, level] = predictions"
      ],
      "execution_count": null,
      "outputs": []
    },
    {
      "cell_type": "code",
      "metadata": {
        "colab": {
          "base_uri": "https://localhost:8080/"
        },
        "id": "t4P4leepsA89",
        "outputId": "88bba545-4f55-473d-f473-6974d95ad4a8"
      },
      "source": [
        "cut_off_level = 0.41\n",
        "accuracy_by_date = get_accuracy_by_date(predictions, cut_off_level)\n",
        "accuracy_by_instrument = get_accuracy_by_instr(predictions, cut_off_level)"
      ],
      "execution_count": null,
      "outputs": [
        {
          "output_type": "stream",
          "text": [
            "accuracy by date = 0.55 +- 0.235\n",
            "accuracy by instrument = 0.55 +- 0.025\n"
          ],
          "name": "stdout"
        }
      ]
    },
    {
      "cell_type": "code",
      "metadata": {
        "colab": {
          "base_uri": "https://localhost:8080/",
          "height": 225
        },
        "id": "SWhwz7XksD3q",
        "outputId": "0466dc21-13f2-4865-d287-57c33579df05"
      },
      "source": [
        "accuracy_by_date.head()"
      ],
      "execution_count": null,
      "outputs": [
        {
          "output_type": "execute_result",
          "data": {
            "text/html": [
              "<div>\n",
              "<style scoped>\n",
              "    .dataframe tbody tr th:only-of-type {\n",
              "        vertical-align: middle;\n",
              "    }\n",
              "\n",
              "    .dataframe tbody tr th {\n",
              "        vertical-align: top;\n",
              "    }\n",
              "\n",
              "    .dataframe thead th {\n",
              "        text-align: right;\n",
              "    }\n",
              "</style>\n",
              "<table border=\"1\" class=\"dataframe\">\n",
              "  <thead>\n",
              "    <tr style=\"text-align: right;\">\n",
              "      <th></th>\n",
              "      <th>accuracy</th>\n",
              "    </tr>\n",
              "    <tr>\n",
              "      <th>dates</th>\n",
              "      <th></th>\n",
              "    </tr>\n",
              "  </thead>\n",
              "  <tbody>\n",
              "    <tr>\n",
              "      <th>20200312</th>\n",
              "      <td>1.000000</td>\n",
              "    </tr>\n",
              "    <tr>\n",
              "      <th>20200225</th>\n",
              "      <td>0.989691</td>\n",
              "    </tr>\n",
              "    <tr>\n",
              "      <th>20200630</th>\n",
              "      <td>0.981443</td>\n",
              "    </tr>\n",
              "    <tr>\n",
              "      <th>20200309</th>\n",
              "      <td>0.979381</td>\n",
              "    </tr>\n",
              "    <tr>\n",
              "      <th>20200227</th>\n",
              "      <td>0.973196</td>\n",
              "    </tr>\n",
              "  </tbody>\n",
              "</table>\n",
              "</div>"
            ],
            "text/plain": [
              "          accuracy\n",
              "dates             \n",
              "20200312  1.000000\n",
              "20200225  0.989691\n",
              "20200630  0.981443\n",
              "20200309  0.979381\n",
              "20200227  0.973196"
            ]
          },
          "metadata": {
            "tags": []
          },
          "execution_count": 27
        }
      ]
    },
    {
      "cell_type": "code",
      "metadata": {
        "colab": {
          "base_uri": "https://localhost:8080/",
          "height": 225
        },
        "id": "-ldnR46hsGSV",
        "outputId": "0cac94bd-f765-437e-8359-bd673f023132"
      },
      "source": [
        "accuracy_by_instrument.head()"
      ],
      "execution_count": null,
      "outputs": [
        {
          "output_type": "execute_result",
          "data": {
            "text/html": [
              "<div>\n",
              "<style scoped>\n",
              "    .dataframe tbody tr th:only-of-type {\n",
              "        vertical-align: middle;\n",
              "    }\n",
              "\n",
              "    .dataframe tbody tr th {\n",
              "        vertical-align: top;\n",
              "    }\n",
              "\n",
              "    .dataframe thead th {\n",
              "        text-align: right;\n",
              "    }\n",
              "</style>\n",
              "<table border=\"1\" class=\"dataframe\">\n",
              "  <thead>\n",
              "    <tr style=\"text-align: right;\">\n",
              "      <th></th>\n",
              "      <th>accuracy</th>\n",
              "    </tr>\n",
              "    <tr>\n",
              "      <th>instruments</th>\n",
              "      <th></th>\n",
              "    </tr>\n",
              "  </thead>\n",
              "  <tbody>\n",
              "    <tr>\n",
              "      <th>TRV</th>\n",
              "      <td>0.604779</td>\n",
              "    </tr>\n",
              "    <tr>\n",
              "      <th>CDNS</th>\n",
              "      <td>0.599265</td>\n",
              "    </tr>\n",
              "    <tr>\n",
              "      <th>C</th>\n",
              "      <td>0.597426</td>\n",
              "    </tr>\n",
              "    <tr>\n",
              "      <th>ABBV</th>\n",
              "      <td>0.59375</td>\n",
              "    </tr>\n",
              "    <tr>\n",
              "      <th>FANG</th>\n",
              "      <td>0.59375</td>\n",
              "    </tr>\n",
              "  </tbody>\n",
              "</table>\n",
              "</div>"
            ],
            "text/plain": [
              "             accuracy\n",
              "instruments          \n",
              "TRV          0.604779\n",
              "CDNS         0.599265\n",
              "C            0.597426\n",
              "ABBV          0.59375\n",
              "FANG          0.59375"
            ]
          },
          "metadata": {
            "tags": []
          },
          "execution_count": 28
        }
      ]
    },
    {
      "cell_type": "markdown",
      "metadata": {
        "id": "eW4SnOPhtbXO"
      },
      "source": [
        "#### Уровень 1: 'High'"
      ]
    },
    {
      "cell_type": "code",
      "metadata": {
        "id": "JcPBrHj2th7c"
      },
      "source": [
        "level = 1\n",
        "\n",
        "predictions = get_level_predictions(level)\n",
        "predictions_3D[:, :, level] = predictions"
      ],
      "execution_count": null,
      "outputs": []
    },
    {
      "cell_type": "code",
      "metadata": {
        "colab": {
          "base_uri": "https://localhost:8080/"
        },
        "id": "-78UcZOJtiAe",
        "outputId": "29a19d82-127f-46bc-a572-ec86d57235d7"
      },
      "source": [
        "cut_off_level = 0.41\n",
        "accuracy_by_date = get_accuracy_by_date(predictions, cut_off_level)\n",
        "accuracy_by_instrument = get_accuracy_by_instr(predictions, cut_off_level)"
      ],
      "execution_count": null,
      "outputs": [
        {
          "output_type": "stream",
          "text": [
            "accuracy by date = 0.55 +- 0.235\n",
            "accuracy by instrument = 0.55 +- 0.025\n"
          ],
          "name": "stdout"
        }
      ]
    },
    {
      "cell_type": "code",
      "metadata": {
        "colab": {
          "base_uri": "https://localhost:8080/",
          "height": 225
        },
        "id": "Dm3EObd5tiFx",
        "outputId": "2c05b734-5ac5-4893-f5d8-45287b23cce5"
      },
      "source": [
        "accuracy_by_date.head()"
      ],
      "execution_count": null,
      "outputs": [
        {
          "output_type": "execute_result",
          "data": {
            "text/html": [
              "<div>\n",
              "<style scoped>\n",
              "    .dataframe tbody tr th:only-of-type {\n",
              "        vertical-align: middle;\n",
              "    }\n",
              "\n",
              "    .dataframe tbody tr th {\n",
              "        vertical-align: top;\n",
              "    }\n",
              "\n",
              "    .dataframe thead th {\n",
              "        text-align: right;\n",
              "    }\n",
              "</style>\n",
              "<table border=\"1\" class=\"dataframe\">\n",
              "  <thead>\n",
              "    <tr style=\"text-align: right;\">\n",
              "      <th></th>\n",
              "      <th>accuracy</th>\n",
              "    </tr>\n",
              "    <tr>\n",
              "      <th>dates</th>\n",
              "      <th></th>\n",
              "    </tr>\n",
              "  </thead>\n",
              "  <tbody>\n",
              "    <tr>\n",
              "      <th>20200312</th>\n",
              "      <td>1.000000</td>\n",
              "    </tr>\n",
              "    <tr>\n",
              "      <th>20200225</th>\n",
              "      <td>0.989691</td>\n",
              "    </tr>\n",
              "    <tr>\n",
              "      <th>20200630</th>\n",
              "      <td>0.981443</td>\n",
              "    </tr>\n",
              "    <tr>\n",
              "      <th>20200309</th>\n",
              "      <td>0.979381</td>\n",
              "    </tr>\n",
              "    <tr>\n",
              "      <th>20200227</th>\n",
              "      <td>0.973196</td>\n",
              "    </tr>\n",
              "  </tbody>\n",
              "</table>\n",
              "</div>"
            ],
            "text/plain": [
              "          accuracy\n",
              "dates             \n",
              "20200312  1.000000\n",
              "20200225  0.989691\n",
              "20200630  0.981443\n",
              "20200309  0.979381\n",
              "20200227  0.973196"
            ]
          },
          "metadata": {
            "tags": []
          },
          "execution_count": 35
        }
      ]
    },
    {
      "cell_type": "code",
      "metadata": {
        "colab": {
          "base_uri": "https://localhost:8080/",
          "height": 225
        },
        "id": "vYWyXUlWtiM7",
        "outputId": "8c86fb86-c964-42cb-8e3b-b80b7890dc14"
      },
      "source": [
        "accuracy_by_instrument.head()"
      ],
      "execution_count": null,
      "outputs": [
        {
          "output_type": "execute_result",
          "data": {
            "text/html": [
              "<div>\n",
              "<style scoped>\n",
              "    .dataframe tbody tr th:only-of-type {\n",
              "        vertical-align: middle;\n",
              "    }\n",
              "\n",
              "    .dataframe tbody tr th {\n",
              "        vertical-align: top;\n",
              "    }\n",
              "\n",
              "    .dataframe thead th {\n",
              "        text-align: right;\n",
              "    }\n",
              "</style>\n",
              "<table border=\"1\" class=\"dataframe\">\n",
              "  <thead>\n",
              "    <tr style=\"text-align: right;\">\n",
              "      <th></th>\n",
              "      <th>accuracy</th>\n",
              "    </tr>\n",
              "    <tr>\n",
              "      <th>instruments</th>\n",
              "      <th></th>\n",
              "    </tr>\n",
              "  </thead>\n",
              "  <tbody>\n",
              "    <tr>\n",
              "      <th>CDNS</th>\n",
              "      <td>0.619485</td>\n",
              "    </tr>\n",
              "    <tr>\n",
              "      <th>MTD</th>\n",
              "      <td>0.617647</td>\n",
              "    </tr>\n",
              "    <tr>\n",
              "      <th>PKI</th>\n",
              "      <td>0.606618</td>\n",
              "    </tr>\n",
              "    <tr>\n",
              "      <th>UAA</th>\n",
              "      <td>0.604779</td>\n",
              "    </tr>\n",
              "    <tr>\n",
              "      <th>LOW</th>\n",
              "      <td>0.604779</td>\n",
              "    </tr>\n",
              "  </tbody>\n",
              "</table>\n",
              "</div>"
            ],
            "text/plain": [
              "             accuracy\n",
              "instruments          \n",
              "CDNS         0.619485\n",
              "MTD          0.617647\n",
              "PKI          0.606618\n",
              "UAA          0.604779\n",
              "LOW          0.604779"
            ]
          },
          "metadata": {
            "tags": []
          },
          "execution_count": 36
        }
      ]
    },
    {
      "cell_type": "markdown",
      "metadata": {
        "id": "WArEgXlMuX4u"
      },
      "source": [
        "#### Уровень 2: 'Low'"
      ]
    },
    {
      "cell_type": "code",
      "metadata": {
        "id": "PAETd0yIudIs"
      },
      "source": [
        "level = 2\n",
        " \n",
        "predictions = get_level_predictions(level)\n",
        "predictions_3D[:, :, level] = predictions"
      ],
      "execution_count": null,
      "outputs": []
    },
    {
      "cell_type": "code",
      "metadata": {
        "colab": {
          "base_uri": "https://localhost:8080/"
        },
        "id": "Ee9_2mB7udMv",
        "outputId": "4238d73c-0230-4713-8382-1269ac238efe"
      },
      "source": [
        "cut_off_level = 0.41\n",
        "accuracy_by_date = get_accuracy_by_date(predictions, cut_off_level)\n",
        "accuracy_by_instrument = get_accuracy_by_instr(predictions, cut_off_level)"
      ],
      "execution_count": null,
      "outputs": [
        {
          "output_type": "stream",
          "text": [
            "accuracy by date = 0.55 +- 0.235\n",
            "accuracy by instrument = 0.55 +- 0.025\n"
          ],
          "name": "stdout"
        }
      ]
    },
    {
      "cell_type": "code",
      "metadata": {
        "colab": {
          "base_uri": "https://localhost:8080/",
          "height": 225
        },
        "id": "5EfTGnQEudR0",
        "outputId": "abce764a-e66e-43fc-e97e-017cc2063d32"
      },
      "source": [
        "accuracy_by_date.head()"
      ],
      "execution_count": null,
      "outputs": [
        {
          "output_type": "execute_result",
          "data": {
            "text/html": [
              "<div>\n",
              "<style scoped>\n",
              "    .dataframe tbody tr th:only-of-type {\n",
              "        vertical-align: middle;\n",
              "    }\n",
              "\n",
              "    .dataframe tbody tr th {\n",
              "        vertical-align: top;\n",
              "    }\n",
              "\n",
              "    .dataframe thead th {\n",
              "        text-align: right;\n",
              "    }\n",
              "</style>\n",
              "<table border=\"1\" class=\"dataframe\">\n",
              "  <thead>\n",
              "    <tr style=\"text-align: right;\">\n",
              "      <th></th>\n",
              "      <th>accuracy</th>\n",
              "    </tr>\n",
              "    <tr>\n",
              "      <th>dates</th>\n",
              "      <th></th>\n",
              "    </tr>\n",
              "  </thead>\n",
              "  <tbody>\n",
              "    <tr>\n",
              "      <th>20200312</th>\n",
              "      <td>1.000000</td>\n",
              "    </tr>\n",
              "    <tr>\n",
              "      <th>20200225</th>\n",
              "      <td>0.989691</td>\n",
              "    </tr>\n",
              "    <tr>\n",
              "      <th>20200630</th>\n",
              "      <td>0.981443</td>\n",
              "    </tr>\n",
              "    <tr>\n",
              "      <th>20200309</th>\n",
              "      <td>0.979381</td>\n",
              "    </tr>\n",
              "    <tr>\n",
              "      <th>20200227</th>\n",
              "      <td>0.973196</td>\n",
              "    </tr>\n",
              "  </tbody>\n",
              "</table>\n",
              "</div>"
            ],
            "text/plain": [
              "          accuracy\n",
              "dates             \n",
              "20200312  1.000000\n",
              "20200225  0.989691\n",
              "20200630  0.981443\n",
              "20200309  0.979381\n",
              "20200227  0.973196"
            ]
          },
          "metadata": {
            "tags": []
          },
          "execution_count": 39
        }
      ]
    },
    {
      "cell_type": "code",
      "metadata": {
        "colab": {
          "base_uri": "https://localhost:8080/",
          "height": 225
        },
        "id": "XwZ4wseeudU-",
        "outputId": "d6801ee0-3410-4c5b-af1e-8d47eb58b64c"
      },
      "source": [
        "accuracy_by_instrument.head()"
      ],
      "execution_count": null,
      "outputs": [
        {
          "output_type": "execute_result",
          "data": {
            "text/html": [
              "<div>\n",
              "<style scoped>\n",
              "    .dataframe tbody tr th:only-of-type {\n",
              "        vertical-align: middle;\n",
              "    }\n",
              "\n",
              "    .dataframe tbody tr th {\n",
              "        vertical-align: top;\n",
              "    }\n",
              "\n",
              "    .dataframe thead th {\n",
              "        text-align: right;\n",
              "    }\n",
              "</style>\n",
              "<table border=\"1\" class=\"dataframe\">\n",
              "  <thead>\n",
              "    <tr style=\"text-align: right;\">\n",
              "      <th></th>\n",
              "      <th>accuracy</th>\n",
              "    </tr>\n",
              "    <tr>\n",
              "      <th>instruments</th>\n",
              "      <th></th>\n",
              "    </tr>\n",
              "  </thead>\n",
              "  <tbody>\n",
              "    <tr>\n",
              "      <th>CDNS</th>\n",
              "      <td>0.619485</td>\n",
              "    </tr>\n",
              "    <tr>\n",
              "      <th>MTD</th>\n",
              "      <td>0.617647</td>\n",
              "    </tr>\n",
              "    <tr>\n",
              "      <th>PKI</th>\n",
              "      <td>0.606618</td>\n",
              "    </tr>\n",
              "    <tr>\n",
              "      <th>UAA</th>\n",
              "      <td>0.604779</td>\n",
              "    </tr>\n",
              "    <tr>\n",
              "      <th>LOW</th>\n",
              "      <td>0.604779</td>\n",
              "    </tr>\n",
              "  </tbody>\n",
              "</table>\n",
              "</div>"
            ],
            "text/plain": [
              "             accuracy\n",
              "instruments          \n",
              "CDNS         0.619485\n",
              "MTD          0.617647\n",
              "PKI          0.606618\n",
              "UAA          0.604779\n",
              "LOW          0.604779"
            ]
          },
          "metadata": {
            "tags": []
          },
          "execution_count": 40
        }
      ]
    },
    {
      "cell_type": "markdown",
      "metadata": {
        "id": "zr0U32HDkGwd"
      },
      "source": [
        "#### Уровень 3: 'Close'"
      ]
    },
    {
      "cell_type": "code",
      "metadata": {
        "id": "qsFfoRBxhh_i"
      },
      "source": [
        "level = 3\n",
        "\n",
        "predictions = get_level_predictions(level)\n",
        "predictions_3D[:, :, level] = predictions"
      ],
      "execution_count": null,
      "outputs": []
    },
    {
      "cell_type": "code",
      "metadata": {
        "colab": {
          "base_uri": "https://localhost:8080/"
        },
        "id": "Q0CH2K42lBfK",
        "outputId": "af98296e-8942-49cb-a72c-cf232aca2175"
      },
      "source": [
        "cut_off_level = 0.41\n",
        "accuracy_by_date = get_accuracy_by_date(predictions, cut_off_level)\n",
        "accuracy_by_instrument = get_accuracy_by_instr(predictions, cut_off_level)"
      ],
      "execution_count": null,
      "outputs": [
        {
          "output_type": "stream",
          "text": [
            "accuracy by date = 0.55 +- 0.235\n",
            "accuracy by instrument = 0.55 +- 0.025\n"
          ],
          "name": "stdout"
        }
      ]
    },
    {
      "cell_type": "code",
      "metadata": {
        "colab": {
          "base_uri": "https://localhost:8080/",
          "height": 225
        },
        "id": "QUSX8vMmrCyj",
        "outputId": "cfb0f686-d7d9-4d16-cfa4-e9232ef6d60b"
      },
      "source": [
        "accuracy_by_date.head()"
      ],
      "execution_count": null,
      "outputs": [
        {
          "output_type": "execute_result",
          "data": {
            "text/html": [
              "<div>\n",
              "<style scoped>\n",
              "    .dataframe tbody tr th:only-of-type {\n",
              "        vertical-align: middle;\n",
              "    }\n",
              "\n",
              "    .dataframe tbody tr th {\n",
              "        vertical-align: top;\n",
              "    }\n",
              "\n",
              "    .dataframe thead th {\n",
              "        text-align: right;\n",
              "    }\n",
              "</style>\n",
              "<table border=\"1\" class=\"dataframe\">\n",
              "  <thead>\n",
              "    <tr style=\"text-align: right;\">\n",
              "      <th></th>\n",
              "      <th>accuracy</th>\n",
              "    </tr>\n",
              "    <tr>\n",
              "      <th>dates</th>\n",
              "      <th></th>\n",
              "    </tr>\n",
              "  </thead>\n",
              "  <tbody>\n",
              "    <tr>\n",
              "      <th>20200312</th>\n",
              "      <td>1.000000</td>\n",
              "    </tr>\n",
              "    <tr>\n",
              "      <th>20200225</th>\n",
              "      <td>0.989691</td>\n",
              "    </tr>\n",
              "    <tr>\n",
              "      <th>20200630</th>\n",
              "      <td>0.981443</td>\n",
              "    </tr>\n",
              "    <tr>\n",
              "      <th>20200309</th>\n",
              "      <td>0.979381</td>\n",
              "    </tr>\n",
              "    <tr>\n",
              "      <th>20200227</th>\n",
              "      <td>0.973196</td>\n",
              "    </tr>\n",
              "  </tbody>\n",
              "</table>\n",
              "</div>"
            ],
            "text/plain": [
              "          accuracy\n",
              "dates             \n",
              "20200312  1.000000\n",
              "20200225  0.989691\n",
              "20200630  0.981443\n",
              "20200309  0.979381\n",
              "20200227  0.973196"
            ]
          },
          "metadata": {
            "tags": []
          },
          "execution_count": 43
        }
      ]
    },
    {
      "cell_type": "code",
      "metadata": {
        "colab": {
          "base_uri": "https://localhost:8080/",
          "height": 225
        },
        "id": "jM7AolZnrLjB",
        "outputId": "f394cd1f-2dcb-4cf2-a1e9-8018c9f4a074"
      },
      "source": [
        "accuracy_by_instrument.head()"
      ],
      "execution_count": null,
      "outputs": [
        {
          "output_type": "execute_result",
          "data": {
            "text/html": [
              "<div>\n",
              "<style scoped>\n",
              "    .dataframe tbody tr th:only-of-type {\n",
              "        vertical-align: middle;\n",
              "    }\n",
              "\n",
              "    .dataframe tbody tr th {\n",
              "        vertical-align: top;\n",
              "    }\n",
              "\n",
              "    .dataframe thead th {\n",
              "        text-align: right;\n",
              "    }\n",
              "</style>\n",
              "<table border=\"1\" class=\"dataframe\">\n",
              "  <thead>\n",
              "    <tr style=\"text-align: right;\">\n",
              "      <th></th>\n",
              "      <th>accuracy</th>\n",
              "    </tr>\n",
              "    <tr>\n",
              "      <th>instruments</th>\n",
              "      <th></th>\n",
              "    </tr>\n",
              "  </thead>\n",
              "  <tbody>\n",
              "    <tr>\n",
              "      <th>CDNS</th>\n",
              "      <td>0.619485</td>\n",
              "    </tr>\n",
              "    <tr>\n",
              "      <th>MTD</th>\n",
              "      <td>0.617647</td>\n",
              "    </tr>\n",
              "    <tr>\n",
              "      <th>PKI</th>\n",
              "      <td>0.606618</td>\n",
              "    </tr>\n",
              "    <tr>\n",
              "      <th>UAA</th>\n",
              "      <td>0.604779</td>\n",
              "    </tr>\n",
              "    <tr>\n",
              "      <th>LOW</th>\n",
              "      <td>0.604779</td>\n",
              "    </tr>\n",
              "  </tbody>\n",
              "</table>\n",
              "</div>"
            ],
            "text/plain": [
              "             accuracy\n",
              "instruments          \n",
              "CDNS         0.619485\n",
              "MTD          0.617647\n",
              "PKI          0.606618\n",
              "UAA          0.604779\n",
              "LOW          0.604779"
            ]
          },
          "metadata": {
            "tags": []
          },
          "execution_count": 44
        }
      ]
    },
    {
      "cell_type": "markdown",
      "metadata": {
        "id": "vkiqfdmwvqiE"
      },
      "source": [
        "#### Уровень 4: 'Volume'"
      ]
    },
    {
      "cell_type": "code",
      "metadata": {
        "id": "7aY2k2E-vxuP"
      },
      "source": [
        "level = 4\n",
        " \n",
        "predictions = get_level_predictions(level)\n",
        "predictions_3D[:, :, level] = predictions"
      ],
      "execution_count": null,
      "outputs": []
    },
    {
      "cell_type": "code",
      "metadata": {
        "id": "5ElD3Jw4yfVq"
      },
      "source": [
        "predictions"
      ],
      "execution_count": null,
      "outputs": []
    },
    {
      "cell_type": "code",
      "metadata": {
        "id": "-O2cAPa_vxxl"
      },
      "source": [
        "cut_off_level = 0.5\n",
        "accuracy_by_date = get_accuracy_by_date(predictions, cut_off_level)\n",
        "accuracy_by_instrument = get_accuracy_by_instr(predictions, cut_off_level)"
      ],
      "execution_count": null,
      "outputs": []
    },
    {
      "cell_type": "code",
      "metadata": {
        "id": "nUqhe2mSvx0s"
      },
      "source": [
        "accuracy_by_date.head()"
      ],
      "execution_count": null,
      "outputs": []
    },
    {
      "cell_type": "code",
      "metadata": {
        "id": "gn9Xceq-vx4d"
      },
      "source": [
        "accuracy_by_instrument.head()"
      ],
      "execution_count": null,
      "outputs": []
    },
    {
      "cell_type": "markdown",
      "metadata": {
        "id": "7HKD8ngzwIZU"
      },
      "source": [
        "#### Уровень 5: (High - Low) / Open"
      ]
    },
    {
      "cell_type": "code",
      "metadata": {
        "id": "FEhq3WtSzakk"
      },
      "source": [
        "level = 5\n",
        " \n",
        "predictions = get_level_predictions(level)\n",
        "predictions_3D[:, :, level] = predictions"
      ],
      "execution_count": null,
      "outputs": []
    },
    {
      "cell_type": "code",
      "metadata": {
        "colab": {
          "base_uri": "https://localhost:8080/"
        },
        "id": "SGQLo2Uuzaow",
        "outputId": "fc26b745-82f6-499a-8749-962ac4db55a2"
      },
      "source": [
        "cut_off_level = 0.4\n",
        "accuracy_by_date = get_accuracy_by_date(predictions, cut_off_level)\n",
        "accuracy_by_instrument = get_accuracy_by_instr(predictions, cut_off_level)"
      ],
      "execution_count": null,
      "outputs": [
        {
          "output_type": "stream",
          "text": [
            "accuracy by date = 0.55 +- 0.23\n",
            "accuracy by instrument = 0.55 +- 0.025\n"
          ],
          "name": "stdout"
        }
      ]
    },
    {
      "cell_type": "code",
      "metadata": {
        "colab": {
          "base_uri": "https://localhost:8080/",
          "height": 225
        },
        "id": "lgs4iRDqzavj",
        "outputId": "c515ff56-f764-4cac-d8f0-ab933758f266"
      },
      "source": [
        "accuracy_by_date.head()"
      ],
      "execution_count": null,
      "outputs": [
        {
          "output_type": "execute_result",
          "data": {
            "text/html": [
              "<div>\n",
              "<style scoped>\n",
              "    .dataframe tbody tr th:only-of-type {\n",
              "        vertical-align: middle;\n",
              "    }\n",
              "\n",
              "    .dataframe tbody tr th {\n",
              "        vertical-align: top;\n",
              "    }\n",
              "\n",
              "    .dataframe thead th {\n",
              "        text-align: right;\n",
              "    }\n",
              "</style>\n",
              "<table border=\"1\" class=\"dataframe\">\n",
              "  <thead>\n",
              "    <tr style=\"text-align: right;\">\n",
              "      <th></th>\n",
              "      <th>accuracy</th>\n",
              "    </tr>\n",
              "    <tr>\n",
              "      <th>dates</th>\n",
              "      <th></th>\n",
              "    </tr>\n",
              "  </thead>\n",
              "  <tbody>\n",
              "    <tr>\n",
              "      <th>20200312</th>\n",
              "      <td>1.000000</td>\n",
              "    </tr>\n",
              "    <tr>\n",
              "      <th>20200225</th>\n",
              "      <td>0.989691</td>\n",
              "    </tr>\n",
              "    <tr>\n",
              "      <th>20200630</th>\n",
              "      <td>0.981443</td>\n",
              "    </tr>\n",
              "    <tr>\n",
              "      <th>20200309</th>\n",
              "      <td>0.979381</td>\n",
              "    </tr>\n",
              "    <tr>\n",
              "      <th>20200227</th>\n",
              "      <td>0.973196</td>\n",
              "    </tr>\n",
              "  </tbody>\n",
              "</table>\n",
              "</div>"
            ],
            "text/plain": [
              "          accuracy\n",
              "dates             \n",
              "20200312  1.000000\n",
              "20200225  0.989691\n",
              "20200630  0.981443\n",
              "20200309  0.979381\n",
              "20200227  0.973196"
            ]
          },
          "metadata": {
            "tags": []
          },
          "execution_count": 47
        }
      ]
    },
    {
      "cell_type": "code",
      "metadata": {
        "colab": {
          "base_uri": "https://localhost:8080/",
          "height": 225
        },
        "id": "Qls0Ecxtza1a",
        "outputId": "3d626d5f-af67-4286-866f-c5529e236a43"
      },
      "source": [
        "accuracy_by_instrument.head()"
      ],
      "execution_count": null,
      "outputs": [
        {
          "output_type": "execute_result",
          "data": {
            "text/html": [
              "<div>\n",
              "<style scoped>\n",
              "    .dataframe tbody tr th:only-of-type {\n",
              "        vertical-align: middle;\n",
              "    }\n",
              "\n",
              "    .dataframe tbody tr th {\n",
              "        vertical-align: top;\n",
              "    }\n",
              "\n",
              "    .dataframe thead th {\n",
              "        text-align: right;\n",
              "    }\n",
              "</style>\n",
              "<table border=\"1\" class=\"dataframe\">\n",
              "  <thead>\n",
              "    <tr style=\"text-align: right;\">\n",
              "      <th></th>\n",
              "      <th>accuracy</th>\n",
              "    </tr>\n",
              "    <tr>\n",
              "      <th>instruments</th>\n",
              "      <th></th>\n",
              "    </tr>\n",
              "  </thead>\n",
              "  <tbody>\n",
              "    <tr>\n",
              "      <th>UAA</th>\n",
              "      <td>0.604779</td>\n",
              "    </tr>\n",
              "    <tr>\n",
              "      <th>ENPH</th>\n",
              "      <td>0.604779</td>\n",
              "    </tr>\n",
              "    <tr>\n",
              "      <th>CZR</th>\n",
              "      <td>0.595588</td>\n",
              "    </tr>\n",
              "    <tr>\n",
              "      <th>MTD</th>\n",
              "      <td>0.59375</td>\n",
              "    </tr>\n",
              "    <tr>\n",
              "      <th>IVZ</th>\n",
              "      <td>0.591912</td>\n",
              "    </tr>\n",
              "  </tbody>\n",
              "</table>\n",
              "</div>"
            ],
            "text/plain": [
              "             accuracy\n",
              "instruments          \n",
              "UAA          0.604779\n",
              "ENPH         0.604779\n",
              "CZR          0.595588\n",
              "MTD           0.59375\n",
              "IVZ          0.591912"
            ]
          },
          "metadata": {
            "tags": []
          },
          "execution_count": 48
        }
      ]
    },
    {
      "cell_type": "markdown",
      "metadata": {
        "id": "UI3Qk02TzqyR"
      },
      "source": [
        "#### Уровень 6: (Open - Close) / Open"
      ]
    },
    {
      "cell_type": "code",
      "metadata": {
        "id": "nEZqnlBB0PPb"
      },
      "source": [
        "level = 6\n",
        " \n",
        "predictions = get_level_predictions(level)\n",
        "predictions_3D[:, :, level] = predictions"
      ],
      "execution_count": null,
      "outputs": []
    },
    {
      "cell_type": "code",
      "metadata": {
        "colab": {
          "base_uri": "https://localhost:8080/"
        },
        "id": "Icnpc9jN0PTJ",
        "outputId": "68286cc1-837f-439a-ec17-d6b78e77dffd"
      },
      "source": [
        "cut_off_level = 0.4\n",
        "accuracy_by_date = get_accuracy_by_date(predictions, cut_off_level)\n",
        "accuracy_by_instrument = get_accuracy_by_instr(predictions, cut_off_level)"
      ],
      "execution_count": null,
      "outputs": [
        {
          "output_type": "stream",
          "text": [
            "accuracy by date = 0.546 +- 0.236\n",
            "accuracy by instrument = 0.546 +- 0.025\n"
          ],
          "name": "stdout"
        }
      ]
    },
    {
      "cell_type": "code",
      "metadata": {
        "colab": {
          "base_uri": "https://localhost:8080/",
          "height": 225
        },
        "id": "hPk7QCoM0PZV",
        "outputId": "7d5b54e5-f3fc-473a-c586-9800e70c5af8"
      },
      "source": [
        "accuracy_by_date.head()"
      ],
      "execution_count": null,
      "outputs": [
        {
          "output_type": "execute_result",
          "data": {
            "text/html": [
              "<div>\n",
              "<style scoped>\n",
              "    .dataframe tbody tr th:only-of-type {\n",
              "        vertical-align: middle;\n",
              "    }\n",
              "\n",
              "    .dataframe tbody tr th {\n",
              "        vertical-align: top;\n",
              "    }\n",
              "\n",
              "    .dataframe thead th {\n",
              "        text-align: right;\n",
              "    }\n",
              "</style>\n",
              "<table border=\"1\" class=\"dataframe\">\n",
              "  <thead>\n",
              "    <tr style=\"text-align: right;\">\n",
              "      <th></th>\n",
              "      <th>accuracy</th>\n",
              "    </tr>\n",
              "    <tr>\n",
              "      <th>dates</th>\n",
              "      <th></th>\n",
              "    </tr>\n",
              "  </thead>\n",
              "  <tbody>\n",
              "    <tr>\n",
              "      <th>20200312</th>\n",
              "      <td>1.000000</td>\n",
              "    </tr>\n",
              "    <tr>\n",
              "      <th>20200225</th>\n",
              "      <td>0.989691</td>\n",
              "    </tr>\n",
              "    <tr>\n",
              "      <th>20200630</th>\n",
              "      <td>0.981443</td>\n",
              "    </tr>\n",
              "    <tr>\n",
              "      <th>20200309</th>\n",
              "      <td>0.979381</td>\n",
              "    </tr>\n",
              "    <tr>\n",
              "      <th>20200227</th>\n",
              "      <td>0.973196</td>\n",
              "    </tr>\n",
              "  </tbody>\n",
              "</table>\n",
              "</div>"
            ],
            "text/plain": [
              "          accuracy\n",
              "dates             \n",
              "20200312  1.000000\n",
              "20200225  0.989691\n",
              "20200630  0.981443\n",
              "20200309  0.979381\n",
              "20200227  0.973196"
            ]
          },
          "metadata": {
            "tags": []
          },
          "execution_count": 59
        }
      ]
    },
    {
      "cell_type": "code",
      "metadata": {
        "colab": {
          "base_uri": "https://localhost:8080/",
          "height": 225
        },
        "id": "QMR4oI3k0Pbp",
        "outputId": "9d225a5e-7b67-48cb-dbf8-65d333958dba"
      },
      "source": [
        "accuracy_by_instrument.head()"
      ],
      "execution_count": null,
      "outputs": [
        {
          "output_type": "execute_result",
          "data": {
            "text/html": [
              "<div>\n",
              "<style scoped>\n",
              "    .dataframe tbody tr th:only-of-type {\n",
              "        vertical-align: middle;\n",
              "    }\n",
              "\n",
              "    .dataframe tbody tr th {\n",
              "        vertical-align: top;\n",
              "    }\n",
              "\n",
              "    .dataframe thead th {\n",
              "        text-align: right;\n",
              "    }\n",
              "</style>\n",
              "<table border=\"1\" class=\"dataframe\">\n",
              "  <thead>\n",
              "    <tr style=\"text-align: right;\">\n",
              "      <th></th>\n",
              "      <th>accuracy</th>\n",
              "    </tr>\n",
              "    <tr>\n",
              "      <th>instruments</th>\n",
              "      <th></th>\n",
              "    </tr>\n",
              "  </thead>\n",
              "  <tbody>\n",
              "    <tr>\n",
              "      <th>MTD</th>\n",
              "      <td>0.59375</td>\n",
              "    </tr>\n",
              "    <tr>\n",
              "      <th>ALGN</th>\n",
              "      <td>0.591912</td>\n",
              "    </tr>\n",
              "    <tr>\n",
              "      <th>PKI</th>\n",
              "      <td>0.590074</td>\n",
              "    </tr>\n",
              "    <tr>\n",
              "      <th>BR</th>\n",
              "      <td>0.586397</td>\n",
              "    </tr>\n",
              "    <tr>\n",
              "      <th>ADSK</th>\n",
              "      <td>0.586397</td>\n",
              "    </tr>\n",
              "  </tbody>\n",
              "</table>\n",
              "</div>"
            ],
            "text/plain": [
              "             accuracy\n",
              "instruments          \n",
              "MTD           0.59375\n",
              "ALGN         0.591912\n",
              "PKI          0.590074\n",
              "BR           0.586397\n",
              "ADSK         0.586397"
            ]
          },
          "metadata": {
            "tags": []
          },
          "execution_count": 60
        }
      ]
    },
    {
      "cell_type": "markdown",
      "metadata": {
        "id": "IogMqJ0c1yjd"
      },
      "source": [
        "### 8. Композиция всех результатов"
      ]
    },
    {
      "cell_type": "code",
      "metadata": {
        "colab": {
          "base_uri": "https://localhost:8080/"
        },
        "id": "_9stL4ss14q5",
        "outputId": "30ad5022-3d41-49ab-c187-533b79c4122c"
      },
      "source": [
        "predictions_3D.shape"
      ],
      "execution_count": null,
      "outputs": [
        {
          "output_type": "execute_result",
          "data": {
            "text/plain": [
              "(485, 544, 7)"
            ]
          },
          "metadata": {
            "tags": []
          },
          "execution_count": 64
        }
      ]
    },
    {
      "cell_type": "markdown",
      "metadata": {
        "id": "9YPGL4qQ9x3W"
      },
      "source": [
        "Уберем уровень Volume и проранжируем результаты."
      ]
    },
    {
      "cell_type": "code",
      "metadata": {
        "id": "ptO8uH2u8XFi"
      },
      "source": [
        "s = n_levels\n",
        "ranked_predictions = np.full((n_instruments, n_predictions, s), np.nan)\n",
        "n = 0\n",
        "for i in range(n_levels):\n",
        "  #if i == 4:\n",
        "  #  continue\n",
        "  for j in range(predictions_3D.shape[1]):      \n",
        "    ranked_predictions[:, j, n] = rankdata(predictions_3D[:, j, i], method='ordinal')\n",
        "  n += 1\n",
        "\n",
        "ranked_predictions = ranked_predictions.mean(axis=2)\n",
        "\n",
        "predictions = np.full((n_instruments, n_predictions), np.nan)\n",
        "for i in range(n_predictions):\n",
        "  predictions[:, i] = rankdata(ranked_predictions[:, i], method='max')\n",
        "\n",
        "predictions /= n_predictions"
      ],
      "execution_count": null,
      "outputs": []
    },
    {
      "cell_type": "code",
      "metadata": {
        "colab": {
          "base_uri": "https://localhost:8080/"
        },
        "id": "OePElZDkZEUe",
        "outputId": "6b2a8450-1faa-4daa-b83b-dddce0ff5b6a"
      },
      "source": [
        "predictions.mean()"
      ],
      "execution_count": null,
      "outputs": [
        {
          "output_type": "execute_result",
          "data": {
            "text/plain": [
              "0.44694990474396257"
            ]
          },
          "metadata": {
            "tags": []
          },
          "execution_count": 66
        }
      ]
    },
    {
      "cell_type": "code",
      "metadata": {
        "colab": {
          "base_uri": "https://localhost:8080/"
        },
        "id": "vbqdz-1s14yg",
        "outputId": "495e7c4f-2628-42a7-e471-5bd6e9c0df32"
      },
      "source": [
        "cut_off_level = 0.35\n",
        "accuracy_by_date = get_accuracy_by_date(predictions, cut_off_level)\n",
        "accuracy_by_instrument = get_accuracy_by_instr(predictions, cut_off_level)"
      ],
      "execution_count": null,
      "outputs": [
        {
          "output_type": "stream",
          "text": [
            "accuracy by date = 0.511 +- 0.069\n",
            "accuracy by instrument = 0.511 +- 0.029\n"
          ],
          "name": "stdout"
        }
      ]
    },
    {
      "cell_type": "markdown",
      "metadata": {
        "id": "qNRkcYHob5n_"
      },
      "source": [
        "### __Выводы:__ \n",
        "* SVM дает результаты 0.55 +- 0.235\n",
        "* Ниже результаты (Open - Close) / Open - accuracy by date = 0.546 +- 0.236 \n",
        "* Над Volume нужно пораборать отдельно. Похоже нужна какая-то предобработка.\n",
        "* Композиция через совмещеие отранжированных результатов существенно снижает дисперсию (с 0.236 до 0.069), но также и ухудшает результат (с 0.55 до 0.511). Нужно подумать о какой-то другой композиции.\n",
        "* На этапе сравения моделей лучше использовать не accuracy, а auc, т.к. последняя не зависит от точки отсечения."
      ]
    }
  ]
}